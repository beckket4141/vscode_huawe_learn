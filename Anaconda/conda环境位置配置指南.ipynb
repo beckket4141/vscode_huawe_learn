{
 "cells": [
  {
   "cell_type": "markdown",
   "id": "b352a25c",
   "metadata": {},
   "source": [
    "# Conda 环境位置配置指南\n",
    "\n",
    "本指南将详细介绍如何更改 Conda 环境的默认存储位置，从而释放 C 盘空间，并将 Conda 环境配置到其他磁盘或目录下。\n",
    "\n",
    "## 问题背景\n",
    "\n",
    "许多用户在安装 Anaconda 或 Miniconda 时，默认将所有环境安装在 C 盘，导致 C 盘空间不足。本指南将教你如何：\n",
    "\n",
    "1. 释放 C 盘中 Conda 占用的空间\n",
    "2. 将 Conda 环境配置到其他磁盘\n",
    "3. 管理不同位置的 Conda 环境\n",
    "\n",
    "## 第一部分：释放 C 盘空间\n",
    "\n",
    "### 1. 查看当前 Conda 环境\n",
    "\n",
    "首先，让我们查看当前所有的 Conda 环境及其位置："
   ]
  },
  {
   "cell_type": "code",
   "execution_count": null,
   "id": "4a6d99c1",
   "metadata": {},
   "outputs": [],
   "source": [
    "!conda env list"
   ]
  },
  {
   "cell_type": "markdown",
   "id": "7362433b",
   "metadata": {},
   "source": [
    "### 2. 删除不需要的环境\n",
    "\n",
    "删除不再需要的 Conda 环境以释放空间："
   ]
  },
  {
   "cell_type": "code",
   "execution_count": null,
   "id": "3f33700e",
   "metadata": {},
   "outputs": [],
   "source": [
    "# 删除指定环境（将 myenv 替换为实际的环境名称）\n",
    "# !conda remove -n myenv --all"
   ]
  },
  {
   "cell_type": "markdown",
   "id": "70e99311",
   "metadata": {},
   "source": [
    "### 3. 清理 Conda 缓存\n",
    "\n",
    "清理 Conda 的包缓存以释放更多空间："
   ]
  },
  {
   "cell_type": "code",
   "execution_count": null,
   "id": "c11093d7",
   "metadata": {},
   "outputs": [],
   "source": [
    "!conda clean --all"
   ]
  },
  {
   "cell_type": "markdown",
   "id": "70936249",
   "metadata": {},
   "source": [
    "## 第二部分：更改 Conda 环境默认位置\n",
    "\n",
    "### 方法一：通过配置文件更改环境位置\n",
    "\n",
    "#### 1. 查看当前 Conda 配置"
   ]
  },
  {
   "cell_type": "code",
   "execution_count": null,
   "id": "3c6d4345",
   "metadata": {},
   "outputs": [],
   "source": [
    "!conda config --show envs_dirs"
   ]
  },
  {
   "cell_type": "markdown",
   "id": "7720102f",
   "metadata": {},
   "source": [
    "#### 2. 清理无效的环境目录配置\n",
    "\n",
    "如果你已经卸载了旧的 Miniconda，可能需要清理无效的环境目录配置："
   ]
  },
  {
   "cell_type": "code",
   "execution_count": null,
   "id": "9372100d",
   "metadata": {},
   "outputs": [],
   "source": [
    "# 移除无效的环境目录配置（根据你的实际情况调整）\n",
    "# !conda config --remove envs_dirs C:\\\\Users\\\\86136\\\\.conda\\\\envs\n",
    "# !conda config --remove envs_dirs C:\\\\Users\\\\86136\\\\AppData\\\\Local\\\\conda\\\\conda\\\\envs"
   ]
  },
  {
   "cell_type": "markdown",
   "id": "4991290e",
   "metadata": {},
   "source": [
    "#### 3. 添加新的环境目录\n",
    "\n",
    "假设你想将环境存储在 `D:\\Anaconda\\envs` 目录下（这是你当前 Anaconda 的安装位置）："
   ]
  },
  {
   "cell_type": "code",
   "execution_count": null,
   "id": "d22c175d",
   "metadata": {},
   "outputs": [],
   "source": [
    "# 添加新的环境目录到搜索路径的最前面（优先级最高）\n",
    "# !conda config --add envs_dirs D:\\\\Anaconda\\\\envs\n",
    "\n",
    "# 或者添加到特定位置\n",
    "# !conda config --append envs_dirs D:\\\\Anaconda\\\\envs"
   ]
  },
  {
   "cell_type": "markdown",
   "id": "98c9079e",
   "metadata": {},
   "source": [
    "### 方法二：使用环境变量配置\n",
    "\n",
    "#### 1. 设置 CONDA_ENVS_PATH 环境变量\n",
    "\n",
    "在 Windows 系统中，可以通过以下方式设置：\n",
    "\n",
    "1. 打开系统设置 -> 高级系统设置 -> 环境变量\n",
    "2. 在系统变量中添加新的变量：\n",
    "   - 变量名：`CONDA_ENVS_PATH`\n",
    "   - 变量值：`D:\\Anaconda\\envs`\n",
    "\n",
    "#### 2. 验证配置\n",
    "\n",
    "重启命令行或 Jupyter Notebook 后，再次查看环境目录配置："
   ]
  },
  {
   "cell_type": "code",
   "execution_count": null,
   "id": "92212460",
   "metadata": {},
   "outputs": [],
   "source": [
    "!conda config --show envs_dirs"
   ]
  },
  {
   "cell_type": "markdown",
   "id": "24509f43",
   "metadata": {},
   "source": [
    "### 方法三：直接指定环境路径\n",
    "\n",
    "在创建环境时直接指定完整路径："
   ]
  },
  {
   "cell_type": "code",
   "execution_count": null,
   "id": "30478730",
   "metadata": {},
   "outputs": [],
   "source": [
    "# 创建环境到指定路径\n",
    "# !conda create --prefix D:\\\\Anaconda\\\\envs\\\\myenv python=3.12"
   ]
  },
  {
   "cell_type": "markdown",
   "id": "9413145e",
   "metadata": {},
   "source": [
    "激活使用 --prefix 创建的环境："
   ]
  },
  {
   "cell_type": "code",
   "execution_count": null,
   "id": "0850c45f",
   "metadata": {},
   "outputs": [],
   "source": [
    "# 激活指定路径的环境\n",
    "# !conda activate D:\\\\Anaconda\\\\envs\\\\myenv"
   ]
  },
  {
   "cell_type": "markdown",
   "id": "2459591c",
   "metadata": {},
   "source": [
    "## 第三部分：在项目目录中创建 Conda 环境\n",
    "\n",
    "### 为什么要在项目目录中创建环境？\n",
    "\n",
    "在项目目录中创建 Conda 环境有以下优势：\n",
    "\n",
    "1. **便于版本控制**：可以将环境配置文件（environment.yml）与项目代码一起提交到 Git 仓库\n",
    "2. **环境隔离**：每个项目都有独立的环境，避免依赖冲突\n",
    "3. **便于协作**：团队成员可以轻松复现相同的开发环境\n",
    "4. **项目完整性**：项目代码和运行环境配置都在同一位置\n",
    "\n",
    "### 在当前目录创建环境的方法\n",
    "\n",
    "#### 1. 使用 --prefix 参数创建环境\n",
    "\n",
    "这种方法会将整个环境目录创建在指定位置："
   ]
  },
  {
   "cell_type": "code",
   "execution_count": null,
   "id": "92212461",
   "metadata": {},
   "outputs": [],
   "source": [
    "import os\n",
    "\n",
    "# 获取当前工作目录\n",
    "current_dir = os.getcwd()\n",
    "print(f\"当前目录: {current_dir}\")\n",
    "\n",
    "# 定义环境目录名称\n",
    "env_name = \"envs\"\n",
    "env_path = os.path.join(current_dir, env_name)\n",
    "print(f\"环境路径: {env_path}\")"
   ]
  },
  {
   "cell_type": "code",
   "execution_count": null,
   "id": "92212462",
   "metadata": {},
   "outputs": [],
   "source": [
    "# 创建环境到当前目录下的 envs 文件夹\n",
    "# !conda create --prefix ./envs python=3.12 -y"
   ]
  },
  {
   "cell_type": "markdown",
   "id": "2459591d",
   "metadata": {},
   "source": [
    "#### 2. 激活本地环境\n",
    "\n",
    "使用完整路径激活环境："
   ]
  },
  {
   "cell_type": "code",
   "execution_count": null,
   "id": "92212463",
   "metadata": {},
   "outputs": [],
   "source": [
    "# 激活本地环境\n",
    "# !conda activate ./envs"
   ]
  },
  {
   "cell_type": "markdown",
   "id": "2459591e",
   "metadata": {},
   "source": [
    "#### 3. 安装需要的包\n",
    "\n",
    "在激活的环境中安装项目需要的包："
   ]
  },
  {
   "cell_type": "code",
   "execution_count": null,
   "id": "92212464",
   "metadata": {},
   "outputs": [],
   "source": [
    "# 在当前环境中安装包\n",
    "# !conda install numpy pandas matplotlib jupyter -y"
   ]
  },
  {
   "cell_type": "markdown",
   "id": "2459591f",
   "metadata": {},
   "source": [
    "### 导出环境配置\n",
    "\n",
    "将环境配置导出为 environment.yml 文件，便于版本控制和分享："
   ]
  },
  {
   "cell_type": "code",
   "execution_count": null,
   "id": "92212465",
   "metadata": {},
   "outputs": [],
   "source": [
    "# 导出环境配置\n",
    "!conda env export > environment.yml"
   ]
  },
  {
   "cell_type": "markdown",
   "id": "24595920",
   "metadata": {},
   "source": [
    "### 从配置文件创建环境\n",
    "\n",
    "其他用户或在其他机器上可以从 environment.yml 文件创建相同的环境："
   ]
  },
  {
   "cell_type": "code",
   "execution_count": null,
   "id": "92212466",
   "metadata": {},
   "outputs": [],
   "source": [
    "# 从配置文件创建环境\n",
    "!conda env create -f environment.yml"
   ]
  },
  {
   "cell_type": "markdown",
   "id": "92212470",
   "metadata": {},
   "source": [
    "## 第四部分：environment.yml 文件详解\n",
    "\n",
    "### 什么是 environment.yml 文件？\n",
    "\n",
    "`environment.yml` 是一个 YAML 格式的文件，用于描述 Conda 环境的配置信息。它包含了环境名称、Python 版本、依赖包等信息，可以方便地在不同机器上复现相同的环境。\n",
    "\n",
    "### environment.yml 文件结构\n",
    "\n",
    "一个典型的 `environment.yml` 文件包含以下几个部分：\n",
    "\n",
    "```yaml\n",
    "name: myenv              # 环境名称\n",
    "channels:                # 包来源通道\n",
    "  - conda-forge\n",
    "  - defaults\n",
    "dependencies:            # 依赖包列表\n",
    "  - python=3.12\n",
    "  - numpy\n",
    "  - pandas\n",
    "  - matplotlib\n",
    "  - jupyter\n",
    "  - pip\n",
    "  - pip:\n",
    "    - some-pip-package\n",
    "```\n",
    "\n",
    "### 创建 environment.yml 文件的方法\n",
    "\n",
    "#### 方法一：从现有环境导出\n",
    "\n",
    "这是最常用的方法，从当前激活的环境中导出配置："
   ]
  },
  {
   "cell_type": "code",
   "execution_count": null,
   "id": "92212471",
   "metadata": {},
   "outputs": [],
   "source": [
    "# 导出当前环境到 environment.yml 文件\n",
    "!conda env export > environment.yml"
   ]
  },
  {
   "cell_type": "markdown",
   "id": "92212472",
   "metadata": {},
   "source": [
    "#### 方法二：手动创建\n",
    "\n",
    "你也可以手动创建一个 `environment.yml` 文件，内容如下："
   ]
  },
  {
   "cell_type": "code",
   "execution_count": null,
   "id": "92212473",
   "metadata": {},
   "outputs": [],
   "source": [
    "%%writefile environment.yml\n",
    "name: leetcode_env\n",
    "channels:\n",
    "  - conda-forge\n",
    "  - defaults\n",
    "dependencies:\n",
    "  - python=3.12\n",
    "  - numpy\n",
    "  - pandas\n",
    "  - matplotlib\n",
    "  - jupyter\n",
    "  - pip\n",
    "  - pip:\n",
    "    - pytest"
   ]
  },
  {
   "cell_type": "markdown",
   "id": "92212474",
   "metadata": {},
   "source": [
    "### 使用 environment.yml 文件\n",
    "\n",
    "#### 1. 从 environment.yml 创建环境"
   ]
  },
  {
   "cell_type": "code",
   "execution_count": null,
   "id": "92212475",
   "metadata": {},
   "outputs": [],
   "source": [
    "# 从 environment.yml 文件创建环境\n",
    "!conda env create -f environment.yml"
   ]
  },
  {
   "cell_type": "markdown",
   "id": "92212476",
   "metadata": {},
   "source": [
    "#### 2. 更新现有环境"
   ]
  },
  {
   "cell_type": "code",
   "execution_count": null,
   "id": "92212477",
   "metadata": {},
   "outputs": [],
   "source": [
    "# 根据 environment.yml 文件更新现有环境\n",
    "!conda env update -f environment.yml --prune"
   ]
  },
  {
   "cell_type": "markdown",
   "id": "92212478",
   "metadata": {},
   "source": [
    "#### 3. 从环境中移除环境"
   ]
  },
  {
   "cell_type": "code",
   "execution_count": null,
   "id": "92212479",
   "metadata": {},
   "outputs": [],
   "source": [
    "# 根据 environment.yml 中指定的名称删除环境\n",
    "# !conda env remove -f environment.yml"
   ]
  },
  {
   "cell_type": "markdown",
   "id": "24595921",
   "metadata": {},
   "source": [
    "## 第五部分：实践操作示例\n",
    "\n",
    "### 示例：在项目目录中创建环境并生成 environment.yml\n",
    "\n",
    "假设我们要在当前项目目录中创建一个环境："
   ]
  },
  {
   "cell_type": "code",
   "execution_count": null,
   "id": "20575146",
   "metadata": {},
   "outputs": [],
   "source": [
    "# 1. 查看当前目录\n",
    "import os\n",
    "current_dir = os.getcwd()\n",
    "print(f\"当前工作目录: {current_dir}\")"
   ]
  },
  {
   "cell_type": "code",
   "execution_count": null,
   "id": "5160076d",
   "metadata": {},
   "outputs": [],
   "source": [
    "# 2. 创建环境到当前目录的 envs 文件夹\n",
    "!conda create --prefix ./envs python=3.12 -y"
   ]
  },
  {
   "cell_type": "code",
   "execution_count": null,
   "id": "73c66534",
   "metadata": {},
   "outputs": [],
   "source": [
    "# 3. 激活环境\n",
    "!conda activate ./envs"
   ]
  },
  {
   "cell_type": "code",
   "execution_count": null,
   "id": "238484a8",
   "metadata": {},
   "outputs": [],
   "source": [
    "# 4. 安装常用包\n",
    "!conda install numpy pandas matplotlib jupyter -y"
   ]
  },
  {
   "cell_type": "code",
   "execution_count": null,
   "id": "238484a9",
   "metadata": {},
   "outputs": [],
   "source": [
    "# 5. 导出环境配置\n",
    "!conda env export > environment.yml"
   ]
  },
  {
   "cell_type": "code",
   "execution_count": null,
   "id": "92212480",
   "metadata": {},
   "outputs": [],
   "source": [
    "# 6. 查看生成的 environment.yml 文件内容\n",
    "!type environment.yml"
   ]
  },
  {
   "cell_type": "code",
   "execution_count": null,
   "id": "238484b0",
   "metadata": {},
   "outputs": [],
   "source": [
    "# 7. 查看环境列表\n",
    "!conda env list"
   ]
  },
  {
   "cell_type": "markdown",
   "id": "67000107",
   "metadata": {},
   "source": [
    "## 第六部分：管理多个环境位置\n",
    "\n",
    "### 1. 查看所有环境目录配置"
   ]
  },
  {
   "cell_type": "code",
   "execution_count": null,
   "id": "10745339",
   "metadata": {},
   "outputs": [],
   "source": [
    "!conda config --show envs_dirs"
   ]
  },
  {
   "cell_type": "markdown",
   "id": "10713017",
   "metadata": {},
   "source": [
    "### 2. 调整环境目录优先级\n",
    "\n",
    "Conda 会按照 envs_dirs 列表的顺序查找环境，第一个目录具有最高优先级。"
   ]
  },
  {
   "cell_type": "code",
   "execution_count": null,
   "id": "881474c9",
   "metadata": {},
   "outputs": [],
   "source": [
    "# 将指定目录添加到最前面（最高优先级）\n",
    "# !conda config --add envs_dirs D:\\\\Anaconda\\\\envs\n",
    "\n",
    "# 将指定目录添加到最后面（最低优先级）\n",
    "# !conda config --append envs_dirs D:\\\\Anaconda\\\\envs"
   ]
  },
  {
   "cell_type": "markdown",
   "id": "0765720a",
   "metadata": {},
   "source": [
    "### 3. 移除环境目录配置"
   ]
  },
  {
   "cell_type": "code",
   "execution_count": null,
   "id": "9020477e",
   "metadata": {},
   "outputs": [],
   "source": [
    "# 从配置中移除指定的环境目录\n",
    "# !conda config --remove envs_dirs C:\\\\Users\\\\86136\\\\.conda\\\\envs\n",
    "# !conda config --remove envs_dirs C:\\\\Users\\\\86136\\\\AppData\\\\Local\\\\conda\\\\conda\\\\envs"
   ]
  },
  {
   "cell_type": "markdown",
   "id": "962403d7",
   "metadata": {},
   "source": [
    "## 第七部分：最佳实践建议\n",
    "\n",
    "### 1. 环境管理建议\n",
    "\n",
    "- 将 Conda 环境存储在有充足空间的磁盘上\n",
    "- 定期清理不需要的环境和缓存\n",
    "- 为不同类型的项目创建不同的环境\n",
    "- 使用描述性的环境名称\n",
    "\n",
    "### 2. 空间管理建议\n",
    "\n",
    "- 定期运行 `conda clean --all` 清理缓存\n",
    "- 删除不需要的旧环境\n",
    "- 考虑使用轻量级的 Miniconda 而不是完整的 Anaconda\n",
    "\n",
    "### 3. 项目协作建议\n",
    "\n",
    "- 使用 `environment.yml` 文件共享环境配置\n",
    "- 在团队内部统一环境目录配置\n",
    "- 文档化环境配置过程\n",
    "\n",
    "### 4. Git 版本控制建议\n",
    "\n",
    "- 将 `environment.yml` 文件添加到 Git 仓库\n",
    "- 不要将整个环境目录添加到 Git 仓库（文件太大）\n",
    "- 在 `.gitignore` 文件中添加环境目录，例如：\n",
    "  ```\n",
    "  # Conda environments\n",
    "  envs/\n",
    "  ```\n",
    "\n",
    "## 总结\n",
    "\n",
    "通过以上方法，你可以有效地管理 Conda 环境的位置，释放 C 盘空间，并将环境存储在任何你想要的目录中。推荐使用配置 envs_dirs 的方法，这样既灵活又便于管理。\n",
    "\n",
    "记住，在更改配置后，新创建的环境将默认存储在新的位置，而已有的环境会保留在原来的位置。对于项目特定的环境，推荐使用 `--prefix` 参数在项目目录中创建环境，并将 `environment.yml` 文件提交到版本控制系统中。"
   ]
  }
 ],
 "metadata": {
  "kernelspec": {
   "display_name": "Python 3",
   "language": "python",
   "name": "python3"
  },
  "language_info": {
   "codemirror_mode": {
    "name": "ipython",
    "version": 3
   },
   "file_extension": ".py",
   "mimetype": "text/x-python",
   "name": "python",
   "nbconvert_exporter": "python",
   "pygments_lexer": "ipython3",
   "version": "3.8.5"
  }
 },
 "nbformat": 4,
 "nbformat_minor": 5
}