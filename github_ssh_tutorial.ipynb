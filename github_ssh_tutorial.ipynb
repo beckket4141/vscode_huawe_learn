{
 "cells": [
  {
   "cell_type": "markdown",
   "metadata": {},
   "source": [
    "# GitHub SSH连接配置完整教程\n",
    "\n",
    "本教程将详细介绍如何配置SSH连接到GitHub，以解决网络连接问题。当您遇到以下错误时可以使用此方法：\n",
    "\n",
    "```\n",
    "fatal: unable to access 'https://github.com/user/repo.git/': Failed to connect to github.com port 443\n",
    "```\n",
    "\n",
    "SSH方式通常比HTTPS方式更稳定，能有效解决网络连接问题。"
   ]
  },
  {
   "cell_type": "markdown",
   "metadata": {},
   "source": [
    "## 方法一：使用自动化脚本配置（推荐）\n",
    "\n",
    "我们提供了一个自动化脚本来帮助您完成SSH配置过程。"
   ]
  },
  {
   "cell_type": "markdown",
   "metadata": {},
   "source": [
    "### 1. 运行配置脚本\n",
    "\n",
    "在终端中运行以下命令：\n",
    "\n",
    "```bash\n",
    "python setup_github_ssh.py\n",
    "```\n",
    "\n",
    "脚本会引导您完成以下步骤：\n",
    "1. 检查SSH安装\n",
    "2. 生成SSH密钥对\n",
    "3. 启动ssh-agent\n",
    "4. 添加SSH私钥到ssh-agent\n",
    "5. 显示公钥供您添加到GitHub账户"
   ]
  },
  {
   "cell_type": "markdown",
   "metadata": {},
   "source": [
    "### 2. 将SSH公钥添加到GitHub账户\n",
    "\n",
    "脚本运行后会显示您的SSH公钥，您需要将其添加到GitHub账户：\n",
    "\n",
    "1. 复制脚本显示的SSH公钥\n",
    "2. 登录到您的GitHub账户\n",
    "3. 点击右上角头像，选择\"Settings\"\n",
    "4. 在左侧菜单中选择\"SSH and GPG keys\"\n",
    "5. 点击\"New SSH key\"\n",
    "6. 为密钥起一个标题（例如：My Laptop）\n",
    "7. 将复制的公钥粘贴到\"Key\"字段\n",
    "8. 点击\"Add SSH key\""
   ]
  },
  {
   "cell_type": "markdown",
   "metadata": {},
   "source": [
    "### 3. 测试连接\n",
    "\n",
    "添加公钥后，您可以测试SSH连接：\n",
    "\n",
    "```bash\n",
    "ssh -T git@github.com\n",
    "```\n",
    "\n",
    "如果看到类似以下信息，表示连接成功：\n",
    "\n",
    "```\n",
    "Hi username! You've successfully authenticated, but GitHub does not provide shell access.\n",
    "```"
   ]
  },
  {
   "cell_type": "markdown",
   "metadata": {},
   "source": [
    "## 方法二：手动配置SSH连接\n",
    "\n",
    "如果您希望手动完成配置过程，请按照以下步骤操作。"
   ]
  },
  {
   "cell_type": "markdown",
   "metadata": {},
   "source": [
    "### 1. 检查SSH安装\n",
    "\n",
    "首先检查系统是否已安装SSH：\n",
    "\n",
    "```bash\n",
    "ssh -V\n",
    "```\n",
    "\n",
    "如果显示版本信息，则表示已安装。"
   ]
  },
  {
   "cell_type": "markdown",
   "metadata": {},
   "source": [
    "### 2. 生成SSH密钥对\n",
    "\n",
    "生成新的SSH密钥对：\n",
    "\n",
    "```bash\n",
    "ssh-keygen -t ed25519 -C \"your_email@example.com\"\n",
    "```\n",
    "\n",
    "按提示操作，通常只需按回车接受默认设置即可。"
   ]
  },
  {
   "cell_type": "markdown",
   "metadata": {},
   "source": [
    "### 3. 启动ssh-agent\n",
    "\n",
    "在后台启动ssh-agent：\n",
    "\n",
    "```bash\n",
    "eval \"$(ssh-agent -s)\"\n",
    "```\n",
    "\n",
    "如果您使用的是Windows系统，可能需要使用：\n",
    "\n",
    "```bash\n",
    "eval $(ssh-agent -s)\n",
    "```"
   ]
  },
  {
   "cell_type": "markdown",
   "metadata": {},
   "source": [
    "### 4. 添加SSH私钥到ssh-agent\n",
    "\n",
    "```bash\n",
    "ssh-add ~/.ssh/id_ed25519\n",
    "```\n",
    "\n",
    "如果您使用的是其他类型的密钥（如RSA），请相应地更改路径。"
   ]
  },
  {
   "cell_type": "markdown",
   "metadata": {},
   "source": [
    "### 5. 获取SSH公钥内容\n",
    "\n",
    "```bash\n",
    "cat ~/.ssh/id_ed25519.pub\n",
    "```\n",
    "\n",
    "复制显示的公钥内容，您将需要它来添加到GitHub账户。"
   ]
  },
  {
   "cell_type": "markdown",
   "metadata": {},
   "source": [
    "### 6. 将SSH密钥添加到GitHub账户\n",
    "\n",
    "1. 登录到您的GitHub账户\n",
    "2. 点击右上角的头像，选择\"Settings\"\n",
    "3. 在左侧菜单中选择\"SSH and GPG keys\"\n",
    "4. 点击\"New SSH key\"\n",
    "5. 为密钥起一个标题（例如：My Laptop）\n",
    "6. 将之前复制的公钥粘贴到\"Key\"字段\n",
    "7. 点击\"Add SSH key\""
   ]
  },
  {
   "cell_type": "markdown",
   "metadata": {},
   "source": [
    "### 7. 测试连接\n",
    "\n",
    "测试SSH连接：\n",
    "\n",
    "```bash\n",
    "ssh -T git@github.com\n",
    "```\n",
    "\n",
    "如果看到类似以下信息，表示连接成功：\n",
    "\n",
    "```\n",
    "Hi username! You've successfully authenticated, but GitHub does not provide shell access.\n",
    "```"
   ]
  },
  {
   "cell_type": "markdown",
   "metadata": {},
   "source": [
    "## 解决端口阻塞问题\n",
    "\n",
    "如果标准SSH端口(22)被阻塞，您可以配置SSH使用HTTPS端口(443)连接GitHub。"
   ]
  },
  {
   "cell_type": "markdown",
   "metadata": {},
   "source": [
    "### 配置SSH使用443端口\n",
    "\n",
    "创建或编辑`~/.ssh/config`文件（在Windows上是`C:\\Users\\YourUsername\\.ssh\\config`）：\n",
    "\n",
    "```\n",
    "# GitHub配置 - 使用HTTPS端口\n",
    "Host github.com\n",
    "    Hostname ssh.github.com\n",
    "    Port 443\n",
    "    User git\n",
    "    PreferredAuthentications publickey\n",
    "```\n",
    "\n",
    "保存文件后，再次测试连接：\n",
    "\n",
    "```bash\n",
    "ssh -T git@github.com\n",
    "```"
   ]
  },
  {
   "cell_type": "markdown",
   "metadata": {},
   "source": [
    "## 使用SSH方式克隆仓库\n",
    "\n",
    "配置完成后，您可以使用SSH方式克隆仓库：\n",
    "\n",
    "```bash\n",
    "git clone git@github.com:username/repository.git\n",
    "```\n",
    "\n",
    "注意URL格式的变化：\n",
    "- HTTPS方式：`https://github.com/username/repository.git`\n",
    "- SSH方式：`git@github.com:username/repository.git`"
   ]
  },
  {
   "cell_type": "markdown",
   "metadata": {},
   "source": [
    "## 常见问题和解决方案\n",
    "\n",
    "### 1. Permission denied (publickey)\n",
    "\n",
    "这表示SSH密钥未正确添加到GitHub账户或ssh-agent。请检查：\n",
    "1. 公钥是否已正确添加到GitHub\n",
    "2. 私钥是否已添加到ssh-agent\n",
    "3. SSH配置是否正确"
   ]
  },
  {
   "cell_type": "markdown",
   "metadata": {},
   "source": [
    "### 2. ssh: connect to host github.com port 22: Connection timed out\n",
    "\n",
    "这表示SSH默认端口被阻塞。请配置SSH使用443端口（如上所述）。"
   ]
  },
  {
   "cell_type": "markdown",
   "metadata": {},
   "source": [
    "### 3. Could not open a connection to your authentication agent\n",
    "\n",
    "这表示ssh-agent未运行。请先启动ssh-agent：\n",
    "\n",
    "```bash\n",
    "eval $(ssh-agent -s)\n",
    "```"
   ]
  },
  {
   "cell_type": "markdown",
   "metadata": {},
   "source": [
    "## 总结\n",
    "\n",
    "SSH方式是解决GitHub连接问题的有效方法，特别是在网络受限的环境中。通过使用加密的SSH连接，通常可以绕过防火墙和网络限制。\n",
    "\n",
    "推荐使用我们提供的自动化脚本进行配置，它可以简化整个过程并减少出错的可能性。如果遇到问题，请参考常见问题解决方案或手动配置方法。"
   ]
  }
 ],
 "metadata": {
  "kernelspec": {
   "display_name": "Python 3",
   "language": "python",
   "name": "python3"
  },
  "language_info": {
   "codemirror_mode": {
    "name": "ipython",
    "version": 3
   },
   "file_extension": ".py",
   "mimetype": "text/x-python",
   "name": "python",
   "nbconvert_exporter": "python",
   "pygments_lexer": "ipython3",
   "version": "3.8.5"
  }
 },
 "nbformat": 4,
 "nbformat_minor": 4
}