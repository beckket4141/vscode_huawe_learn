{
 "cells": [
  {
   "cell_type": "markdown",
   "id": "d5b9a5eb",
   "metadata": {},
   "source": [
    "# 一、Python语法知识"
   ]
  },
  {
   "cell_type": "markdown",
   "id": "1dc33aa5",
   "metadata": {},
   "source": [
    "## 1.变量使用方法"
   ]
  },
  {
   "cell_type": "markdown",
   "id": "db08d9fb",
   "metadata": {},
   "source": [
    "### 1.2 局部变量（函数内的变量）"
   ]
  },
  {
   "cell_type": "markdown",
   "id": "ea5f3e48",
   "metadata": {},
   "source": [
    "\n",
    "  \n",
    "**定义**：在函数（包括类的方法`def`）内部定义的变量，没有`self.`或`global`修饰。  \n",
    "**作用域**：仅在**当前函数内部**有效，函数执行结束后自动销毁。  \n",
    "**示例**：  \n"
   ]
  },
  {
   "cell_type": "code",
   "execution_count": 19,
   "id": "cc6049b7",
   "metadata": {},
   "outputs": [],
   "source": [
    "\n",
    "class MyClass:\n",
    "    def my_method(self):\n",
    "        # 局部变量：仅在my_method内部可用\n",
    "        local_var = 10\n",
    "        print(local_var)  # 正常输出：10\n",
    "\n",
    "    def another_method(self):\n",
    "        print(local_var)  # 报错：局部变量local_var未定义（不在该方法作用域内）"
   ]
  },
  {
   "cell_type": "markdown",
   "id": "cc5b052e",
   "metadata": {},
   "source": [
    "\n",
    "### 1.2 实例变量（`self.xxx`）"
   ]
  },
  {
   "cell_type": "markdown",
   "id": "bb3003c1",
   "metadata": {},
   "source": [
    "  \n",
    "**定义**：在类的方法中，用`self.变量名`定义的变量（通常在`__init__`中初始化）。  \n",
    "**作用域**：属于**当前类的实例**，在**该实例的所有方法中**都可以通过`self`访问，不同实例的实例变量相互独立。  \n",
    "**示例**：  "
   ]
  },
  {
   "cell_type": "code",
   "execution_count": 16,
   "id": "9051cce5",
   "metadata": {},
   "outputs": [
    {
     "name": "stdout",
     "output_type": "stream",
     "text": [
      "20\n",
      "30\n"
     ]
    }
   ],
   "source": [
    "\n",
    "class MyClass:\n",
    "    def __init__(self):\n",
    "        # 实例变量：属于当前实例\n",
    "        self.instance_var = 20\n",
    "\n",
    "    def method1(self):\n",
    "        print(self.instance_var)  # 正常输出：20（同一实例内可访问）\n",
    "\n",
    "    def method2(self):\n",
    "        self.instance_var += 10  # 同一实例内可修改\n",
    "        print(self.instance_var)  # 输出：30\n",
    "# 创建两个实例，实例变量相互独立\n",
    "obj1 = MyClass()\n",
    "obj1.method1()  # 20\n",
    "obj2 = MyClass()\n",
    "obj2.method2()  # 30（不影响obj1）\n"
   ]
  },
  {
   "cell_type": "markdown",
   "id": "7149b437",
   "metadata": {},
   "source": [
    "### 1.3 全局变量（模块级别的变量）\n"
   ]
  },
  {
   "cell_type": "markdown",
   "id": "86d34f58",
   "metadata": {},
   "source": [
    "  \n",
    "**定义**：在模块（`.py`文件）最外层定义的变量，不属于任何函数或类。  \n",
    "**作用域**：在**整个模块内**可见（包括函数、类内部），如果其他模块通过`import`导入，也可以访问（需注意命名冲突）。  \n",
    "**特殊规则**：如果在函数/方法内部**修改全局变量**，需要用`global`声明，否则会被视为局部变量。  \n",
    "\n",
    "**示例**：  \n"
   ]
  },
  {
   "cell_type": "code",
   "execution_count": 17,
   "id": "376ef0ce",
   "metadata": {},
   "outputs": [
    {
     "name": "stdout",
     "output_type": "stream",
     "text": [
      "100\n",
      "200\n",
      "200\n"
     ]
    }
   ],
   "source": [
    "\n",
    "# 全局变量：在模块最外层定义\n",
    "global_var = 100\n",
    "\n",
    "class MyClass:\n",
    "    def method(self):\n",
    "        # 直接访问全局变量（无需声明）\n",
    "        print(global_var)  # 正常输出：100\n",
    "\n",
    "def my_function():\n",
    "    # 修改全局变量：必须用global声明\n",
    "    global global_var\n",
    "    global_var = 200\n",
    "    print(global_var)  # 输出：200\n",
    "\n",
    "# 在类和函数之外也能直接使用\n",
    "print(global_var)  # 初始输出：100\n",
    "my_function()\n",
    "print(global_var)  # 输出：200（已被修改）\n"
   ]
  },
  {
   "cell_type": "markdown",
   "id": "2703773b",
   "metadata": {},
   "source": [
    "### 1.4总结区别 "
   ]
  },
  {
   "cell_type": "markdown",
   "id": "5599e2ce",
   "metadata": {},
   "source": [
    "\n",
    " \n",
    "| 变量类型   | 定义方式               | 作用域范围                     | 访问方式               |  \n",
    "|------------|------------------------|--------------------------------|------------------------|  \n",
    "| 局部变量   | 函数/方法内部直接定义   | 仅当前函数/方法内部           | 直接用变量名           |  \n",
    "| 实例变量   | 类的方法中用`self.xxx`  | 整个实例的所有方法（通过`self`）| `self.变量名`          |  \n",
    "| 全局变量   | 模块最外层定义          | 整个模块（函数、类、模块级代码）| 直接用变量名；修改时需`global`声明 |  \n",
    "\n",
    "\n",
    "简单说：  \n",
    "- 局部变量是“函数私有”的；  \n",
    "- 实例变量是“实例私有”的（同一类的不同实例不共享）；  \n",
    "- 全局变量是“模块共享”的（整个文件都能用，甚至跨模块导入）。"
   ]
  },
  {
   "cell_type": "markdown",
   "id": "524c1084",
   "metadata": {},
   "source": [
    "## 2.类使用方法"
   ]
  },
  {
   "cell_type": "markdown",
   "id": "e81eb2f8",
   "metadata": {},
   "source": [
    "### 2.1 实例方法（Instance Methods）\n",
    "\n",
    "**定义**：第一个参数必须是`self`（代表调用该方法的实例）\n",
    "**作用**：操作实例属性（通过`self.属性名`访问），依赖具体实例\n",
    "**调用**：必须通过「实例名.方法名」调用\n",
    "\n",
    "**示例**："
   ]
  },
  {
   "cell_type": "code",
   "execution_count": null,
   "id": "3ddc9321",
   "metadata": {},
   "outputs": [],
   "source": [
    "class Person:\n",
    "    def __init__(self, name, age):\n",
    "        self.name = name\n",
    "        self.age = age\n",
    "    \n",
    "    # 实例方法：打印个人信息\n",
    "    def introduce(self):\n",
    "        print(f\"我叫{self.name}，今年{self.age}岁\")\n",
    "    \n",
    "    # 实例方法：修改年龄\n",
    "    def grow(self, years):\n",
    "        self.age += years\n",
    "\n",
    "# 测试代码\n",
    "p = Person(\"Alice\", 20)\n",
    "p.introduce()  # 输出：我叫Alice，今年20岁\n",
    "p.grow(2)\n",
    "p.introduce()  # 输出：我叫Alice，今年22岁\n"
   ]
  },
  {
   "cell_type": "markdown",
   "id": "97dad761",
   "metadata": {},
   "source": [
    "### 2.2 类方法（Class Methods）\n",
    "\n",
    "**定义**：用`@classmethod`装饰器，第一个参数必须是`cls`\n",
    "**作用**：操作类属性（通过`cls.属性名`访问），不依赖具体实例\n",
    "**调用**：通过「类名.方法名」或「实例名.方法名」调用\n",
    "\n",
    "**示例**："
   ]
  },
  {
   "cell_type": "code",
   "execution_count": null,
   "id": "708713ac",
   "metadata": {},
   "outputs": [],
   "source": [
    "class Person:\n",
    "    species = \"人类\"  # 类属性\n",
    "    \n",
    "    @classmethod\n",
    "    def get_species(cls):\n",
    "        return cls.species\n",
    "    \n",
    "    @classmethod\n",
    "    def set_species(cls, new_species):\n",
    "        cls.species = new_species\n",
    "\n",
    "# 测试代码\n",
    "print(Person.get_species())  # 输出：人类\n",
    "Person.set_species(\"智人\")\n",
    "print(Person.get_species())  # 输出：智人\n"
   ]
  },
  {
   "cell_type": "markdown",
   "id": "5bccdf8f",
   "metadata": {},
   "source": [
    "### 2.3 静态方法（Static Methods）\n",
    "\n",
    "**定义**：用`@staticmethod`装饰器，无默认参数\n",
    "**作用**：提供与类相关的工具功能，不依赖类属性或实例属性\n",
    "**调用**：通过「类名.方法名」或「实例名.方法名」调用\n",
    "\n",
    "**示例**："
   ]
  },
  {
   "cell_type": "code",
   "execution_count": null,
   "id": "756d972e",
   "metadata": {},
   "outputs": [],
   "source": [
    "class MathUtils:\n",
    "    @staticmethod\n",
    "    def add(a, b):\n",
    "        return a + b\n",
    "\n",
    "# 测试代码\n",
    "print(MathUtils.add(2, 3))  # 输出：5\n"
   ]
  },
  {
   "cell_type": "markdown",
   "id": "a75f0ee4",
   "metadata": {},
   "source": [
    "### 2.4 内部类（Inner Classes）\n",
    "\n",
    "**定义**：定义在另一个类内部的类\n",
    "**作用**：将逻辑相关的类封装在一起，避免命名冲突\n",
    "**访问**：通过外部类的「类名」或「实例」引用\n",
    "\n",
    "**示例**："
   ]
  },
  {
   "cell_type": "code",
   "execution_count": null,
   "id": "1657ce3a",
   "metadata": {},
   "outputs": [],
   "source": [
    "class Outer:\n",
    "    class Inner:\n",
    "        def __init__(self, value):\n",
    "            self.value = value\n",
    "        \n",
    "        def show(self):\n",
    "            print(f\"Inner value: {self.value}\")\n",
    "\n",
    "# 测试代码\n",
    "inner1 = Outer.Inner(10)\n",
    "inner1.show()  # 输出：Inner value: 10\n",
    "\n",
    "outer = Outer()\n",
    "inner2 = outer.Inner(20)\n",
    "inner2.show()  # 输出：Inner value: 20\n"
   ]
  },
  {
   "cell_type": "markdown",
   "id": "0932c759",
   "metadata": {},
   "source": [
    "###  ord--单个字符Unicode 码点"
   ]
  },
  {
   "cell_type": "code",
   "execution_count": 18,
   "id": "70035804",
   "metadata": {},
   "outputs": [
    {
     "name": "stdout",
     "output_type": "stream",
     "text": [
      "18\n",
      "s\n"
     ]
    }
   ],
   "source": [
    "a=ord('s')-ord('a')\n",
    "print(a)\n",
    "print(chr(a + ord('a')))"
   ]
  },
  {
   "cell_type": "markdown",
   "id": "472d56e6",
   "metadata": {},
   "source": [
    "# 3.其他具体自带的self.xxx语法"
   ]
  },
  {
   "cell_type": "markdown",
   "id": "ccca8d04",
   "metadata": {},
   "source": [
    "## 3.1 str类"
   ]
  },
  {
   "cell_type": "markdown",
   "id": "45d20c2c",
   "metadata": {},
   "source": [
    "### 3.1.1 基础常用函数和语法"
   ]
  },
  {
   "cell_type": "markdown",
   "id": "4fe8afc1",
   "metadata": {},
   "source": [
    "(1)str.split(\"/\"):\n",
    "以/为分隔符分割字符串\n",
    "eg:"
   ]
  },
  {
   "cell_type": "code",
   "execution_count": 1,
   "id": "83abde27",
   "metadata": {},
   "outputs": [
    {
     "name": "stdout",
     "output_type": "stream",
     "text": [
      "['hello', 'world']\n"
     ]
    }
   ],
   "source": [
    "ss='hello/world'\n",
    "aa = ss.split('/')\n",
    "print(aa)  # 输出：['hello', 'world']"
   ]
  },
  {
   "cell_type": "markdown",
   "id": "cb578669",
   "metadata": {},
   "source": [
    "（2）a+='c':在a字符串的尾部继续添加字符c  nn='c'+a:在a的前面加字符c"
   ]
  },
  {
   "cell_type": "code",
   "execution_count": 5,
   "id": "69a92ccc",
   "metadata": {},
   "outputs": [
    {
     "name": "stdout",
     "output_type": "stream",
     "text": [
      "abcdenihao\n",
      "nihaoabcdenihao\n"
     ]
    }
   ],
   "source": [
    "a=\"abcde\"\n",
    "a+='nihao'\n",
    "print(a)  # 输出：abcdenihao\n",
    "nn='nihao' + a  # 在a的前面加字符a\n",
    "print(nn)  # 输出：nihaoabcdenihao"
   ]
  },
  {
   "cell_type": "markdown",
   "id": "a00a1bcf",
   "metadata": {},
   "source": [
    "#### (3)字符串之间的比较\n"
   ]
  },
  {
   "cell_type": "markdown",
   "id": "f99b67fc",
   "metadata": {},
   "source": [
    "在 Python 中，字符串是可以直接使用比较运算符（`>`, `<`, `==` 等）进行比较的，比较规则遵循**字典序**（类似字典中单词的排序逻辑），具体来说：\n",
    "\n",
    "\n",
    "### 字符串比较的核心规则：\n",
    "1. **逐个字符比较**：从两个字符串的第一个字符开始，依次比较对应位置的字符。  \n",
    "2. **基于字符的 Unicode 编码值**：每个字符的大小由其 Unicode 编码值决定（可通过 `ord(字符)` 查看具体值，例如 `ord('a')=97`，`ord('b')=98`）。  \n",
    "3. **一旦出现差异，立即确定大小**：如果某个位置的字符不同，直接根据该位置字符的编码值判断整个字符串的大小，后面的字符不再比较。  \n",
    "4. **长度不同的情况**：如果两个字符串前面的字符都相同，**短字符串更小**（例如 `\"app\" < \"apple\"`，因为前者先结束）。  \n",
    "\n",
    "简单说：字符串比较就像查字典，先比第一个字，第一个字相同就比第二个，以此类推，直到分出大小。"
   ]
  },
  {
   "cell_type": "markdown",
   "id": "cf14a426",
   "metadata": {},
   "source": [
    "### 3.1.2切片"
   ]
  },
  {
   "cell_type": "code",
   "execution_count": null,
   "id": "d4540048",
   "metadata": {},
   "outputs": [
    {
     "name": "stdout",
     "output_type": "stream",
     "text": [
      "234\n",
      "135\n",
      "135\n"
     ]
    }
   ],
   "source": [
    "a='123456'\n",
    "b=a[1:4]\n",
    "print(b)  # 输出：234\n",
    "c=a[0:5:2]\n",
    "print(c)\n",
    "d=a[::2] #[起始(闭区间):结束(开区间):步长]\n",
    "print(d)  # 输出：135  "
   ]
  },
  {
   "cell_type": "markdown",
   "id": "e59d7628",
   "metadata": {},
   "source": [
    "### 3.1.3转换到Unicode函数"
   ]
  },
  {
   "cell_type": "code",
   "execution_count": 4,
   "id": "80772660",
   "metadata": {},
   "outputs": [
    {
     "name": "stdout",
     "output_type": "stream",
     "text": [
      "f\n"
     ]
    }
   ],
   "source": [
    "class TreeNode:\n",
    "    def __init__(self, val=0, left=None, right=None):\n",
    "        self.val = val\n",
    "        self.left = left\n",
    "        self.right = right\n",
    "root = TreeNode(5)\n",
    "AA=chr(ord('a') + root.val)\n",
    "print(AA)  # 输出：f（因为5对应的字母是f）"
   ]
  },
  {
   "cell_type": "markdown",
   "id": "49e61b9d",
   "metadata": {},
   "source": [
    "在 Python 中，`chr()` 和 `ord()` 是**内置函数**专门用于**字符与 Unicode 码点之间的转换**。它们的语法简单且功能对应，记住“反向操作”的逻辑就能轻松掌握。\n",
    "\n",
    "\n",
    "#### 一、核心功能与语法对比\n",
    "| 函数       | 作用                          | 参数要求                  | 返回值                  | 示例                          |\n",
    "|------------|-------------------------------|---------------------------|-------------------------|-------------------------------|\n",
    "| `ord(c)`   | 将单个字符转换为 Unicode 码点  | `c` 必须是长度为 1 的字符串（单个字符） | 整数（码点值）          | `ord('a') → 97`、`ord('中') → 20013` |\n",
    "| `chr(i)`   | 将 Unicode 码点转换为对应字符  | `i` 必须是 0~1114111 的整数（有效 Unicode 码点） | 长度为 1 的字符串（字符） | `chr(97) → 'a'`、`chr(20013) → '中'` |\n",
    "\n",
    "\n",
    "#### 二、记忆技巧：“反向操作”+ 场景联想\n",
    "1. **从“函数名”记方向**：  \n",
    "   - `ord` 是“ordinal”（顺序、序数）的缩写，联想“字符的序号（码点）”，所以是**字符 → 数字**。  \n",
    "   - `chr` 是“character”（字符）的缩写，联想“用数字找字符”，所以是**数字 → 字符**。  \n",
    "\n",
    "   简单说：`ord` 查字符的“身份证号”（码点），`chr` 用“身份证号”查字符。\n",
    "\n",
    "\n",
    "2. **用 ASCII 码表强化记忆**：  \n",
    "   最常用的场景是英文字母、数字的转换，对应 ASCII 码表的规律：  \n",
    "   - 小写字母 `a-z` 对应码点 `97-122`（`ord('a')=97`，`ord('z')=122`）。  \n",
    "   - 大写字母 `A-Z` 对应码点 `65-90`（`ord('A')=65`，`ord('Z')=90`）。  \n",
    "   - 数字 `0-9` 对应码点 `48-57`（`ord('0')=48`，`ord('9')=57`）。  \n",
    "\n",
    "   例如：  \n",
    "   - 想知道 `'c'` 的码点：`ord('c') = 97 + 2 = 99`（因为 `'a'` 是 97，`'c'` 是第 3 个小写字母）。  \n",
    "   - 想知道码点 100 对应什么字符：`chr(100) = 'd'`（97 是 'a'，100-97=3，对应第 4 个小写字母）。  \n",
    "\n",
    "\n",
    "3. **结合题目场景巩固**：  \n",
    "   在之前的 988 题（从叶结点开始的最小字符串）中，节点值是 `0-25`，对应 `'a'-'z'`，代码用了：  \n",
    "   ```python\n",
    "   # 节点值 root.val（0-25）→ 对应字符（'a'-'z'）\n",
    "   chr(ord('a') + root.val)  # 例如 root.val=0 → 'a'，root.val=2 → 'c'\n",
    "   ```  \n",
    "   这里先通过 `ord('a')` 拿到 'a' 的码点（97），加上节点值得到目标字符的码点，再用 `chr` 转换为字符，完美体现两者的配合。\n",
    "\n",
    "\n",
    "#### 三、常见误区\n",
    "- ❌ 误区：`ord` 和 `chr` 是字符串的方法（如 `'a'.ord()`）。  \n",
    "  ✅ 正解：它们是内置函数，直接对字符/数字调用（如 `ord('a')`、`chr(97)`）。  \n",
    "\n",
    "- ❌ 误区：`ord` 可以处理多字符字符串（如 `ord('ab')`）。  \n",
    "  ✅ 正解：`ord` 的参数必须是单个字符（长度为 1 的字符串），否则会报错（`TypeError: ord() expected a character, but string of length 2 found`）。  \n",
    "\n",
    "\n",
    "通过“函数名方向 + 场景例子”，很容易记住 `ord` 和 `chr` 的功能和用法。核心就是：**一个查字符的数字码，一个用数字码查字符，是反向操作的一对函数**。"
   ]
  },
  {
   "cell_type": "markdown",
   "id": "9c6a683b",
   "metadata": {},
   "source": [
    "### 3.1.4 字符串list转数字"
   ]
  },
  {
   "cell_type": "code",
   "execution_count": null,
   "id": "28fc506a",
   "metadata": {},
   "outputs": [],
   "source": [
    "int(''.join(map(str,self.track)))\n",
    "#直接将[1, 2, 3]转换为字符串'123'，然后转换为整数123\n",
    "# self.track是一个数字列表，map(str, self.track)将每个数字转换为字符串，\n",
    "# join()将这些字符串连接起来，得到一个字符串'123'\n",
    "# 最后，int()将这个字符串转换为整数。"
   ]
  },
  {
   "cell_type": "markdown",
   "id": "58a7f3f8",
   "metadata": {},
   "source": [
    "# 0.重要易混点"
   ]
  },
  {
   "cell_type": "markdown",
   "id": "83949a07",
   "metadata": {},
   "source": [
    "## 0.1 a is None 和 not a的区别"
   ]
  },
  {
   "cell_type": "markdown",
   "id": "5cd55526",
   "metadata": {},
   "source": [
    "可以用“**对象身份**”和“**逻辑有效性**”这两个核心概念来区分，再结合生活化的例子，就很好记了。\n",
    "\n",
    "\n",
    "### 1. `is None`：判断“对象身份”——是不是“空标签”\n",
    "- **本质**：检查变量是否**严格等于 `None` 这个特殊对象**（`None` 是 Python 里一个独一无二的“空标记”，类似一个贴了“空”字的标签）。\n",
    "- **类比**：  \n",
    "  想象你有一个盒子，`None` 就像盒子上明确贴了一张“此盒为空”的标签。`is None` 就是检查“这个盒子上有没有贴这张‘空标签’”。  \n",
    "  只有当盒子上**明确贴着这张标签**时，`is None` 才为 `True`。\n",
    "\n",
    "\n",
    "### 2. `not 变量`：判断“逻辑有效性”——是不是“真的空”\n",
    "- **本质**：检查变量是否是“逻辑假值”（在逻辑判断中被视为 `False` 的值）。  \n",
    "  常见的“假值”包括：`None`、空列表 `[]`、空字符串 `\"\"`、数字 `0`、空字典 `{}` 等（这些值在逻辑上都表示“空/无效”）。\n",
    "- **类比**：  \n",
    "  还是那个盒子，`not 变量` 是检查“盒子里是不是真的没东西”。  \n",
    "  不管盒子上有没有贴“空标签”（即不管是不是 `None`），只要盒子里是空的（比如空列表），`not 变量` 就为 `True`。\n",
    "\n",
    "\n",
    "### 一句话总结：\n",
    "- `is None`：只认“空标签”（`None`），其他“空”都不算。  \n",
    "- `not 变量`：认所有“空/无效”（包括空列表、`None`、空字符串等），只要“没东西”就算。  \n",
    "\n",
    "\n",
    "### 场景记忆法：\n",
    "- 当你需要确认“变量是不是被明确标记为‘无’”（比如函数返回 `None` 表示失败），用 `is None`。  \n",
    "- 当你需要确认“变量是不是空的/无效的”（比如检查列表是否为空、字符串是否为空），用 `not 变量`。"
   ]
  },
  {
   "cell_type": "markdown",
   "id": "adc6d663",
   "metadata": {},
   "source": [
    "# labladong算法笔记未完成标记"
   ]
  },
  {
   "cell_type": "markdown",
   "id": "f94637a1",
   "metadata": {},
   "source": [
    "894.所有可能的真二叉树--好难"
   ]
  },
  {
   "cell_type": "markdown",
   "id": "9dc00ed2",
   "metadata": {},
   "source": [
    "\n",
    "220. 存在重复元素 III---等学完二叉搜索树来搞\n",
    "\n",
    "## 数组章节\n",
    "二分搜索例题\n",
    "前缀和数组例题\n",
    "差分数组例题"
   ]
  }
 ],
 "metadata": {
  "kernelspec": {
   "display_name": ".conda",
   "language": "python",
   "name": "python3"
  },
  "language_info": {
   "codemirror_mode": {
    "name": "ipython",
    "version": 3
   },
   "file_extension": ".py",
   "mimetype": "text/x-python",
   "name": "python",
   "nbconvert_exporter": "python",
   "pygments_lexer": "ipython3",
   "version": "3.12.11"
  }
 },
 "nbformat": 4,
 "nbformat_minor": 5
}
