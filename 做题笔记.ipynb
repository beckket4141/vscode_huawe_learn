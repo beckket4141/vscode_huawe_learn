{
 "cells": [
  {
   "cell_type": "markdown",
   "id": "8c1f6d74",
   "metadata": {},
   "source": [
    "## 1.层序遍历二叉树的巧用"
   ]
  },
  {
   "cell_type": "markdown",
   "id": "15d662b5",
   "metadata": {},
   "source": [
    "### 1.指向右侧指针"
   ]
  },
  {
   "cell_type": "code",
   "execution_count": null,
   "id": "179837b5",
   "metadata": {},
   "outputs": [
    {
     "name": "stdout",
     "output_type": "stream",
     "text": [
      "2 3\n",
      "4 5\n",
      "7 None\n"
     ]
    }
   ],
   "source": [
    "class Node:\n",
    "    def __init__(self, val=0, left=None, right=None, next=None):\n",
    "        self.val = val\n",
    "        self.left = left\n",
    "        self.right = right\n",
    "        self.next = next\n",
    "\n",
    "class Solution:\n",
    "    def connect(self, root: 'Node') -> 'Node':\n",
    "        if root is None:\n",
    "            return None\n",
    "        # 二叉树层序遍历框架\n",
    "        from collections import deque\n",
    "        q = deque([root])\n",
    "        while q:\n",
    "            sz = len(q)\n",
    "            # 遍历一层\n",
    "            pre = None\n",
    "            for i in range(sz):\n",
    "                cur = q.popleft()\n",
    "                # 链接当前层所有节点的 next 指针\n",
    "                if pre is not None:\n",
    "                    pre.next = cur\n",
    "                pre = cur\n",
    "                # 将下一层节点装入队列\n",
    "                if cur.left is not None:\n",
    "                    q.append(cur.left)\n",
    "                if cur.right is not None:\n",
    "                    q.append(cur.right)\n",
    "        return root\n",
    "    \n"
   ]
  },
  {
   "cell_type": "markdown",
   "id": "a1037871",
   "metadata": {},
   "source": [
    "                cur = q.popleft()\n",
    "                # 链接当前层所有节点的 next 指针\n",
    "                if pre is not None:\n",
    "                    pre.next = cur\n",
    "                pre = cur\n",
    "是关键,把cur在pre前,pre刚好比cur慢一层!"
   ]
  },
  {
   "cell_type": "code",
   "execution_count": 7,
   "id": "03aef7ca",
   "metadata": {},
   "outputs": [
    {
     "name": "stdout",
     "output_type": "stream",
     "text": [
      "2 3\n",
      "4 5\n",
      "7 None\n"
     ]
    }
   ],
   "source": [
    "# Example usage:\n",
    "if __name__ == \"__main__\":\n",
    "    # Create a sample tree\n",
    "    root = Node(1)\n",
    "    root.left = Node(2)\n",
    "    root.right = Node(3)\n",
    "    root.left.left = Node(4)\n",
    "    root.left.right = Node(5)\n",
    "    root.right.right = Node(7)\n",
    "\n",
    "    # Connect nodes at the same level\n",
    "    solution = Solution()\n",
    "    solution.connect(root)\n",
    "\n",
    "    # Print the next values for each node\n",
    "    print(root.left.val, root.left.next.val)  # Output: 2 3\n",
    "    print(root.left.left.val, root.left.left.next.val)  # Output: 4 5\n",
    "    print(root.right.right.val, root.right.right.next)  # Output: 7 None"
   ]
  }
 ],
 "metadata": {
  "kernelspec": {
   "display_name": ".conda",
   "language": "python",
   "name": "python3"
  },
  "language_info": {
   "codemirror_mode": {
    "name": "ipython",
    "version": 3
   },
   "file_extension": ".py",
   "mimetype": "text/x-python",
   "name": "python",
   "nbconvert_exporter": "python",
   "pygments_lexer": "ipython3",
   "version": "3.12.11"
  }
 },
 "nbformat": 4,
 "nbformat_minor": 5
}
