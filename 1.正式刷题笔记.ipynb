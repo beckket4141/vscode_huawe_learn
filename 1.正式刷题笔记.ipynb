{
 "cells": [
  {
   "cell_type": "markdown",
   "id": "db84b398",
   "metadata": {},
   "source": [
    "# 0.标准输入输出"
   ]
  },
  {
   "cell_type": "markdown",
   "id": "49a30823",
   "metadata": {},
   "source": [
    "## 输入\n",
    "1.n,k=map(int,input().strip().strip())"
   ]
  },
  {
   "cell_type": "markdown",
   "id": "33e749bd",
   "metadata": {},
   "source": [
    "## 1.哈希表\n"
   ]
  },
  {
   "cell_type": "markdown",
   "id": "360d4950",
   "metadata": {},
   "source": [
    "### 1.转换思路之 数组中选两数求和为目标值---a+b=target\n",
    "- 创建一个字典，将nums中的元素作为key，索引作为value\n",
    "- 遍历nums，判断target-nums[i]是否在字典中，是则返回结果,否，则将nums[i]作为key，索引作为value加入字典!\n",
    "- 时间复杂度：O(n)\n",
    "- 空间复杂度：O(n)"
   ]
  },
  {
   "cell_type": "code",
   "execution_count": null,
   "id": "86c75801",
   "metadata": {},
   "outputs": [],
   "source": [
    "n,target=map(int,input().split())\n",
    "nums=list(map(int,input().split()))\n",
    "dic={}\n",
    "for i in range(n):\n",
    "    complement=target-nums[i]\n",
    "    if complement in dic:\n",
    "        print(dic[complement],i)\n",
    "        exit()\n",
    "    dic[nums[i]]=i"
   ]
  },
  {
   "cell_type": "markdown",
   "id": "f234496a",
   "metadata": {},
   "source": [
    "### 2.怎么选取健和值--字母异位词分组\n",
    "思路:\n",
    "1. 创建一个字典，key为排序后的字符串，value为列表，列表中存放的是原字符串---这样异位词组的健就是一样的!\n",
    "=================================================================================\n",
    "2. 遍历字符串列表，将字符串排序，并作为key，将原字符串作为value添加到字典中\n",
    "3. 遍历字典，将value列表中的字符串添加到一个新的列表中，并返回新的列表\n",
    "\n",
    "学:\n",
    "1.注意!:sorted(s) 返回的是列表（list），而列表是不可哈希的,所以不能作为字典的key--要用key=\"\".join(sorted(s))\n",
    "2.用collections中的defaultdict来创建字典--默认字典，字典的key不存在时，会创建一个空的列表，并返回该列表\n",
    "3.\"\".join(Listt)来将列表Listt中的元素连接成一个字符串"
   ]
  },
  {
   "cell_type": "code",
   "execution_count": null,
   "id": "5f0d9a5c",
   "metadata": {},
   "outputs": [],
   "source": [
    "from collections import defaultdict\n",
    "class solution:\n",
    "    def groupanagrams(self,strs):\n",
    "        mp=defaultdict(list)\n",
    "        for s in strs:\n",
    "            key=\"\".join(sorted(s))\n",
    "            mp[key].append(s)\n",
    "        return list(mp.values())\n",
    "if __name__==\"__main__\":\n",
    "    n=int(input())\n",
    "    strs=input().split()\n",
    "    so=solution()\n",
    "    res=so.groupanagrams(strs)\n",
    "    for group in res:\n",
    "        #print(\" \".join(group))\n",
    "        print(*group)"
   ]
  },
  {
   "cell_type": "markdown",
   "id": "75ed482b",
   "metadata": {},
   "source": [
    "### 3.巨帅的贪心哈希解法--最长连续序列"
   ]
  },
  {
   "cell_type": "markdown",
   "id": "1ac88665",
   "metadata": {},
   "source": [
    "学:\n",
    "\n",
    "1.**利用set(nums)方便查找nums[i]-1/nums[i]+1是否在nums中---set()查找效率高O(1)!!!!!**\n",
    "\n",
    "2.nums[i]-1不在set(nums)中说明其就是一个序列的起点\n",
    "\n",
    "3.nums[i]+1在set(nums)中,说明该序列长度可以增加--le+=1,一直到找不到为止就是nums[i]序列的最终连续长度\n",
    "\n",
    "4.maxlen = max(maxlen, le)找到最长长度"
   ]
  },
  {
   "cell_type": "code",
   "execution_count": null,
   "id": "5c36ce48",
   "metadata": {},
   "outputs": [],
   "source": [
    "from collections import deque\n",
    "class solution:\n",
    "    def maxsequence(self,nums):\n",
    "        maxle=0\n",
    "        setnums=set(nums)\n",
    "        for i in range(len(nums)):\n",
    "            if (nums[i]-1) not in setnums:\n",
    "                le=1\n",
    "                while (nums[i]+le) in setnums:\n",
    "                    le+=1\n",
    "                maxle=max(maxle,le)\n",
    "            else:\n",
    "                continue\n",
    "        return maxle\n",
    "\n",
    "so=solution()\n",
    "n=int(input())\n",
    "nums=list(map(int,input().split()))\n",
    "print(so.maxsequence(nums))\n"
   ]
  },
  {
   "cell_type": "markdown",
   "id": "ee310581",
   "metadata": {},
   "source": [
    "### 4.技巧--字符为key,出现次数为value\n",
    "dict.get(key, default) 可以获取键 key 对应的值，若键不存在则返回 default（这里用 0 作为默认值）。\n"
   ]
  },
  {
   "cell_type": "code",
   "execution_count": 1,
   "id": "a0bec6be",
   "metadata": {},
   "outputs": [],
   "source": [
    "from collections import defaultdict\n",
    "\n",
    "class Solution:\n",
    "    def allsubword(self, s, p):\n",
    "        ns, np = len(s), len(p)\n",
    "        dic = {}  # 存储p中字符的出现次数\n",
    "        for char in p:  # 直接遍历p中的每个字符（比用索引更直观）\n",
    "            # 若char在dic中，获取其当前值+1；若不在，用0+1（即初始化为1）\n",
    "            dic[char] = dic.get(char, 0) + 1\n",
    "        return dic  # 测试用，实际可根据需求处理"
   ]
  },
  {
   "cell_type": "markdown",
   "id": "41393c1c",
   "metadata": {},
   "source": [
    "5.技巧--删除字典中的健"
   ]
  },
  {
   "cell_type": "code",
   "execution_count": 2,
   "id": "b76436fb",
   "metadata": {},
   "outputs": [
    {
     "ename": "NameError",
     "evalue": "name 'scount' is not defined",
     "output_type": "error",
     "traceback": [
      "\u001b[31m---------------------------------------------------------------------------\u001b[39m",
      "\u001b[31mNameError\u001b[39m                                 Traceback (most recent call last)",
      "\u001b[36mCell\u001b[39m\u001b[36m \u001b[39m\u001b[32mIn[2]\u001b[39m\u001b[32m, line 1\u001b[39m\n\u001b[32m----> \u001b[39m\u001b[32m1\u001b[39m \u001b[38;5;28;01mdel\u001b[39;00m scount[s[i-np]]\n",
      "\u001b[31mNameError\u001b[39m: name 'scount' is not defined"
     ]
    }
   ],
   "source": [
    "del scount[s[i-np]]"
   ]
  },
  {
   "cell_type": "markdown",
   "id": "bf298f0f",
   "metadata": {},
   "source": [
    "### 6.技巧使用Counter\n",
    "from collections import Counter"
   ]
  },
  {
   "cell_type": "markdown",
   "id": "2a6aafae",
   "metadata": {},
   "source": [
    "Counter 的内容以 键值对 的形式存储，与普通字典类似：\n",
    "键（key）：被计数的元素（比如字符串中的每个字符、列表中的每个元素等）。\n",
    "值（value）：该元素出现的次数（非负整数）。"
   ]
  },
  {
   "cell_type": "markdown",
   "id": "503ac2e3",
   "metadata": {},
   "source": [
    "## 2.双指针"
   ]
  },
  {
   "cell_type": "markdown",
   "id": "42bfe709",
   "metadata": {},
   "source": [
    "### 1.同起点/紧挨着的双指针--移动零"
   ]
  },
  {
   "cell_type": "markdown",
   "id": "d545cbae",
   "metadata": {},
   "source": [
    "两种思路:\n",
    "1.挨个判断0移动到后面---需要考虑更多边界条件\n",
    "2.移动非0到前面---更简洁,但会自己移动自己"
   ]
  },
  {
   "cell_type": "code",
   "execution_count": null,
   "id": "1ef00bc0",
   "metadata": {},
   "outputs": [],
   "source": [
    "# 移动0 -后移\n",
    "class solution:\n",
    "    def movezero(self,nums):\n",
    "        left=0\n",
    "        right=1\n",
    "        while right<len(nums):\n",
    "            if nums[left]==0 and nums[right]!=0:\n",
    "                nums[left],nums[right]=nums[right],nums[left]\n",
    "                right+=1\n",
    "                left+=1\n",
    "            elif nums[left]==0:\n",
    "                if nums[right]==0:\n",
    "                    right+=1\n",
    "            else:\n",
    "                right+=1\n",
    "                left+=1\n",
    "so=solution()\n",
    "n=int(input())\n",
    "nums=list(map(int,input().split()))\n",
    "so.movezero(nums)\n",
    "print(*nums)\n",
    "\n"
   ]
  },
  {
   "cell_type": "code",
   "execution_count": null,
   "id": "6eed0bc8",
   "metadata": {},
   "outputs": [],
   "source": [
    "# 移动非0--前移\n",
    "class Solution:\n",
    "    def moveZeroes(self, nums):\n",
    "        n = len(nums)\n",
    "        i = 0  # 记录非零元素应放置的位置\n",
    "        \n",
    "        # 遍历数组，将非零元素移到前面\n",
    "        for j in range(n):\n",
    "            if nums[j] != 0:\n",
    "                nums[i], nums[j] = nums[j], nums[i]  # 交换非零元素到前面\n",
    "                i += 1  # 移动非零元素位置索引\n",
    "\n",
    "# 读入数据并调用函数\n",
    "n = int(input().strip())\n",
    "nums = list(map(int, input().split()))\n",
    "Solution().moveZeroes(nums)\n",
    "print(\" \".join(map(str, nums)))\n"
   ]
  },
  {
   "cell_type": "markdown",
   "id": "a4e432d7",
   "metadata": {},
   "source": [
    "### 2.两头指针移动之优化(贪心)多移动其中一头--盛水最多容器"
   ]
  },
  {
   "cell_type": "markdown",
   "id": "31242b96",
   "metadata": {},
   "source": [
    "学:\n",
    "1.我在想优化双指针，移动指针的时候跳过比当前短板更短的时候,循环没写好容易写成死循环,要记住这样写!:\n",
    "    cur_left=nums[left] #要在循环外定义cur_left,方便比较\n",
    "    while left < right and nums[left]<=cur_left:\n",
    "                    left+=1 #只在循环里面叠加\n",
    "        不要忘记判断left<right且将nums[left]<=cur_left:放入同级别的while中"
   ]
  },
  {
   "cell_type": "code",
   "execution_count": null,
   "id": "acd2abc6",
   "metadata": {},
   "outputs": [],
   "source": [
    "class solution:\n",
    "    def maxwater(self,nums):\n",
    "        left=0\n",
    "        right=len(nums)-1\n",
    "        res=0        \n",
    "        while left<right:\n",
    "            v=min(nums[left],nums[right])*(right-left)\n",
    "            res=max(res,v)\n",
    "            if nums[left]<nums[right]:\n",
    "                cur_left=nums[left]\n",
    "                while left < right and nums[left]<=cur_left:\n",
    "                    left+=1\n",
    "                    \n",
    "            else:\n",
    "                cur_right=nums[right]\n",
    "                while left < right and nums[right]<=cur_right:\n",
    "                    right-=1\n",
    "                        \n",
    "        return res\n",
    "so=solution()\n",
    "n=int(input())\n",
    "nums=list(map(int,input().split()))\n",
    "print(so.maxwater(nums))\n",
    "                "
   ]
  },
  {
   "cell_type": "markdown",
   "id": "21c3a1b9",
   "metadata": {},
   "source": [
    "### 3.三个指针（去重写法）--三数之和"
   ]
  },
  {
   "cell_type": "markdown",
   "id": "a13b2174",
   "metadata": {},
   "source": [
    "学：\n",
    "\n",
    "1.固定一个指针i，滑动窗口两个指针k=i+1,j=len(nums)-1开始滑\n",
    "\n",
    "2.每次i的循环注意k=i+1,j=len(nums)-1要重新初始化\n",
    "\n",
    "3.去重的时候主要在（1）i的外循环注意and边界条件i<len(nums）-2)（2）内循环total=0的时候（注意and边界条件k<j）\n"
   ]
  },
  {
   "cell_type": "code",
   "execution_count": null,
   "id": "197b3d57",
   "metadata": {},
   "outputs": [],
   "source": [
    "class Solution:\n",
    "    def threeSum(self, nums):\n",
    "        \"\"\"\n",
    "        三数之和，双指针法\n",
    "        :param nums: List[int] 代表输入数组\n",
    "        :return: List[List[int]] 符合条件的三元组列表\n",
    "        \"\"\"\n",
    "        nums.sort()  # 先排序\n",
    "        n = len(nums)\n",
    "        res = []\n",
    "\n",
    "        for i in range(n - 2):\n",
    "            if i > 0 and nums[i] == nums[i - 1]:  # 跳过重复元素\n",
    "                continue\n",
    "\n",
    "            left, right = i + 1, n - 1  # 左右指针\n",
    "            while left < right:\n",
    "                total = nums[i] + nums[left] + nums[right]\n",
    "                if total < 0:\n",
    "                    left += 1\n",
    "                elif total > 0:\n",
    "                    right -= 1\n",
    "                else:\n",
    "                    res.append([nums[i], nums[left], nums[right]])\n",
    "                    # 跳过重复元素\n",
    "                    while left < right and nums[left] == nums[left + 1]:\n",
    "                        left += 1\n",
    "                    while left < right and nums[right] == nums[right - 1]:\n",
    "                        right -= 1\n",
    "                    left += 1\n",
    "                    right -= 1\n",
    "        return res\n",
    "\n",
    "# 读取输入\n",
    "if __name__ == \"__main__\":\n",
    "    n = int(input())  # 读取 n\n",
    "    nums = list(map(int, input().split()))  # 读取数组\n",
    "    solution = Solution()\n",
    "    results = solution.threeSum(nums)\n",
    "    for triplet in results:\n",
    "        print(\" \".join(map(str, triplet)))\n"
   ]
  },
  {
   "cell_type": "markdown",
   "id": "90100598",
   "metadata": {},
   "source": [
    "### 1.在滑动（滑动得前缀后缀max）的时候就根据贪心计算当前值--接雨水"
   ]
  },
  {
   "cell_type": "markdown",
   "id": "34da58a3",
   "metadata": {},
   "source": [
    "学：\n",
    "\n",
    "1.可以边滑动边计算值的原因：\n",
    "当 height[left] < height[right] 时，我们可以确定：\n",
    "右侧一定存在一个比 height[left] 更高的柱子（至少 height[right] 就是）。\n",
    "因此，left 位置的存水量只取决于左侧的最大高度（left_max），因为右侧的最大高度无论如何都不会小于 height[right]（而 height[right] 已经比 height[left] 大了）\n",
    "\n",
    "省空间！\n",
    "利用了贪心思想"
   ]
  },
  {
   "cell_type": "code",
   "execution_count": null,
   "id": "47c5bd23",
   "metadata": {},
   "outputs": [],
   "source": [
    "class Solution:\n",
    "    def trap(self, height):\n",
    "        if not height:\n",
    "            return 0\n",
    "        \n",
    "        left, right = 0, len(height) - 1\n",
    "        left_max, right_max = 0, 0\n",
    "        water = 0\n",
    "        \n",
    "        while left < right:\n",
    "            if height[left] < height[right]:\n",
    "                if height[left] >= left_max:\n",
    "                    left_max = height[left]\n",
    "                else:\n",
    "                    water += left_max - height[left]\n",
    "                left += 1\n",
    "            else:\n",
    "                if height[right] >= right_max:\n",
    "                    right_max = height[right]\n",
    "                else:\n",
    "                    water += right_max - height[right]\n",
    "                right -= 1\n",
    "        \n",
    "        return water\n",
    "\n",
    "# 读取输入并处理\n",
    "if __name__ == \"__main__\":\n",
    "    n = int(input())\n",
    "    height = list(map(int, input().split()))\n",
    "    solution = Solution()\n",
    "    print(solution.trap(height))\n"
   ]
  },
  {
   "cell_type": "markdown",
   "id": "ff485545",
   "metadata": {},
   "source": [
    "## 3.滑动窗口（双指针的子集）-双指针+连续区间"
   ]
  },
  {
   "cell_type": "markdown",
   "id": "076b28ec",
   "metadata": {},
   "source": [
    "### 1.滑动窗口的left可以用for循环，right用while循环（逻辑清楚）--求无重复的最长子串"
   ]
  },
  {
   "cell_type": "markdown",
   "id": "52204287",
   "metadata": {},
   "source": [
    "学：\n",
    "\n",
    "1.用集合set()来判断重复元素--查找，添加，删除的时间复杂度都是O(1)\n",
    "\n",
    "2.s=str(input())或者s= input()--字符串本身就是可迭代的，不需要用list()\n",
    "\n"
   ]
  },
  {
   "cell_type": "markdown",
   "id": "2736ad7d",
   "metadata": {},
   "source": [
    "### 2.单调队列/二叉堆辅助--滑动窗口的最大值"
   ]
  },
  {
   "cell_type": "markdown",
   "id": "bc569032",
   "metadata": {},
   "source": [
    "双端单调队列的求法:\n"
   ]
  },
  {
   "cell_type": "code",
   "execution_count": null,
   "id": "46b5b2df",
   "metadata": {},
   "outputs": [],
   "source": [
    "from collections import deque\n",
    "import sys\n",
    "\n",
    "class Solution:\n",
    "    def maxSlidingWindow(self, nums, k):\n",
    "        deque_window = deque()  # 双端队列\n",
    "        result = []\n",
    "        \n",
    "        for i in range(len(nums)):\n",
    "            # 移除窗口左侧已过期的元素索引\n",
    "            if deque_window and deque_window[0] < i - k + 1:\n",
    "                deque_window.popleft()\n",
    "            \n",
    "            # 保持队列单调递减，移除所有小于当前元素的索引\n",
    "            while deque_window and nums[deque_window[-1]] < nums[i]:\n",
    "                deque_window.pop()\n",
    "            \n",
    "            # 添加当前元素索引\n",
    "            deque_window.append(i)\n",
    "            \n",
    "            # 记录最大值（窗口形成后）\n",
    "            if i >= k - 1:\n",
    "                result.append(nums[deque_window[0]])\n",
    "\n",
    "        return result\n",
    "\n",
    "if __name__ == \"__main__\":\n",
    "    # 读取输入\n",
    "    n, k = map(int, sys.stdin.readline().split())\n",
    "    nums = list(map(int, sys.stdin.readline().split()))\n",
    "    \n",
    "    # 计算滑动窗口最大值\n",
    "    solution = Solution()\n",
    "    result = solution.maxSlidingWindow(nums, k)\n",
    "    \n",
    "    # 输出结果\n",
    "    print(\" \".join(map(str, result)))\n"
   ]
  },
  {
   "cell_type": "markdown",
   "id": "1196fd0d",
   "metadata": {},
   "source": [
    "二叉堆解法"
   ]
  },
  {
   "cell_type": "code",
   "execution_count": null,
   "id": "638247da",
   "metadata": {},
   "outputs": [],
   "source": [
    "from collections import deque\n",
    "import sys\n",
    "\n",
    "class Solution:\n",
    "    def maxSlidingWindow(self, nums, k):\n",
    "        deque_window = deque()  # 双端队列\n",
    "        result = []\n",
    "        \n",
    "        for i in range(len(nums)):\n",
    "            # 移除窗口左侧已过期的元素索引\n",
    "            if deque_window and deque_window[0] < i - k + 1:\n",
    "                deque_window.popleft()\n",
    "            \n",
    "            # 保持队列单调递减，移除所有小于当前元素的索引\n",
    "            while deque_window and nums[deque_window[-1]] < nums[i]:\n",
    "                deque_window.pop()\n",
    "            \n",
    "            # 添加当前元素索引\n",
    "            deque_window.append(i)\n",
    "            \n",
    "            # 记录最大值（窗口形成后）\n",
    "            if i >= k - 1:\n",
    "                result.append(nums[deque_window[0]])\n",
    "\n",
    "        return result\n",
    "\n",
    "if __name__ == \"__main__\":\n",
    "    # 读取输入\n",
    "    n, k = map(int, sys.stdin.readline().split())\n",
    "    nums = list(map(int, sys.stdin.readline().split()))\n",
    "    \n",
    "    # 计算滑动窗口最大值\n",
    "    solution = Solution()\n",
    "    result = solution.maxSlidingWindow(nums, k)\n",
    "    \n",
    "    # 输出结果\n",
    "    print(\" \".join(map(str, result)))\n"
   ]
  },
  {
   "cell_type": "markdown",
   "id": "ca51e347",
   "metadata": {},
   "source": [
    "## 4.子串技巧汇总"
   ]
  },
  {
   "cell_type": "markdown",
   "id": "6800b62a",
   "metadata": {},
   "source": [
    "### 1.前缀和技巧（结合哈希表应对前缀和出现重复的情况--sums中有负数）--和为k的子数组(连续)\n",
    "哈希表记录健为presum[i]出现的次数!\n",
    "dic[presum[i]]=dic.get(presum[i],0)+1  \n"
   ]
  },
  {
   "cell_type": "markdown",
   "id": "150fac52",
   "metadata": {},
   "source": [
    "学规范\n",
    "\n",
    "前缀和代码标准：\n",
    "        n=len(nums)\n",
    "        presum=[0]*(n+1)\n",
    "        for i in range(1,n+1):\n",
    "            presum[i]=presum[i-1]+nums[i-1]"
   ]
  },
  {
   "cell_type": "code",
   "execution_count": null,
   "id": "c975345a",
   "metadata": {},
   "outputs": [],
   "source": [
    "class Solution:\n",
    "    def sumksubseq(self,nums,k):\n",
    "        n=len(nums)\n",
    "        presum=[0]*(n+1)\n",
    "        dic={0:1}\n",
    "        res=0\n",
    "        for i in range(1,n+1):\n",
    "            presum[i]=presum[i-1]+nums[i-1]\n",
    "            res+=dic.get(presum[i]-k,0)\n",
    "            dic[presum[i]]=dic.get(presum[i],0)+1            \n",
    "        return res\n",
    "\n",
    "if __name__ == \"__main__\":\n",
    "    n,k=map(int,input().strip().split())   \n",
    "    nums = list(map(int, input().strip().split()))\n",
    "    solution = Solution()\n",
    "    print(solution.sumksubseq(nums, k))\n"
   ]
  }
 ],
 "metadata": {
  "kernelspec": {
   "display_name": "data_analysis",
   "language": "python",
   "name": "python3"
  },
  "language_info": {
   "codemirror_mode": {
    "name": "ipython",
    "version": 3
   },
   "file_extension": ".py",
   "mimetype": "text/x-python",
   "name": "python",
   "nbconvert_exporter": "python",
   "pygments_lexer": "ipython3",
   "version": "3.12.11"
  }
 },
 "nbformat": 4,
 "nbformat_minor": 5
}
