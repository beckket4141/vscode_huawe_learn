{
 "cells": [
  {
   "cell_type": "markdown",
   "id": "33e749bd",
   "metadata": {},
   "source": [
    "## 1.哈希表\n"
   ]
  },
  {
   "cell_type": "markdown",
   "id": "360d4950",
   "metadata": {},
   "source": [
    "### 1.转换思路之 数组中选两数求和为目标值---a+b=target\n",
    "- 创建一个字典，将nums中的元素作为key，索引作为value\n",
    "- 遍历nums，判断target-nums[i]是否在字典中，是则返回结果,否，则将nums[i]作为key，索引作为value加入字典!\n",
    "- 时间复杂度：O(n)\n",
    "- 空间复杂度：O(n)"
   ]
  },
  {
   "cell_type": "code",
   "execution_count": null,
   "id": "86c75801",
   "metadata": {},
   "outputs": [],
   "source": [
    "n,target=map(int,input().split())\n",
    "nums=list(map(int,input().split()))\n",
    "dic={}\n",
    "for i in range(n):\n",
    "    complement=target-nums[i]\n",
    "    if complement in dic:\n",
    "        print(dic[complement],i)\n",
    "        exit()\n",
    "    dic[nums[i]]=i"
   ]
  },
  {
   "cell_type": "markdown",
   "id": "f234496a",
   "metadata": {},
   "source": [
    "### 2.怎么选取健和值--字母异位词分组\n",
    "思路:\n",
    "1. 创建一个字典，key为排序后的字符串，value为列表，列表中存放的是原字符串---这样异位词组的健就是一样的!\n",
    "=================================================================================\n",
    "2. 遍历字符串列表，将字符串排序，并作为key，将原字符串作为value添加到字典中\n",
    "3. 遍历字典，将value列表中的字符串添加到一个新的列表中，并返回新的列表\n",
    "\n",
    "学:\n",
    "1.注意!:sorted(s) 返回的是列表（list），而列表是不可哈希的,所以不能作为字典的key--要用key=\"\".join(sorted(s))\n",
    "2.用collections中的defaultdict来创建字典--默认字典，字典的key不存在时，会创建一个空的列表，并返回该列表\n",
    "3.\"\".join(Listt)来将列表Listt中的元素连接成一个字符串"
   ]
  },
  {
   "cell_type": "code",
   "execution_count": null,
   "id": "5f0d9a5c",
   "metadata": {},
   "outputs": [],
   "source": [
    "from collections import defaultdict\n",
    "class solution:\n",
    "    def groupanagrams(self,strs):\n",
    "        mp=defaultdict(list)\n",
    "        for s in strs:\n",
    "            key=\"\".join(sorted(s))\n",
    "            mp[key].append(s)\n",
    "        return list(mp.values())\n",
    "if __name__==\"__main__\":\n",
    "    n=int(input())\n",
    "    strs=input().split()\n",
    "    so=solution()\n",
    "    res=so.groupanagrams(strs)\n",
    "    for group in res:\n",
    "        #print(\" \".join(group))\n",
    "        print(*group)"
   ]
  },
  {
   "cell_type": "markdown",
   "id": "75ed482b",
   "metadata": {},
   "source": [
    "### 3.巨帅的贪心哈希解法--最长连续序列"
   ]
  },
  {
   "cell_type": "markdown",
   "id": "1ac88665",
   "metadata": {},
   "source": [
    "学:\n",
    "\n",
    "1.**利用set(nums)方便查找nums[i]-1/nums[i]+1是否在nums中---set()查找效率高O(1)!!!!!**\n",
    "\n",
    "2.nums[i]-1不在set(nums)中说明其就是一个序列的起点\n",
    "\n",
    "3.nums[i]+1在set(nums)中,说明该序列长度可以增加--le+=1,一直到找不到为止就是nums[i]序列的最终连续长度\n",
    "\n",
    "4.maxlen = max(maxlen, le)找到最长长度"
   ]
  },
  {
   "cell_type": "code",
   "execution_count": null,
   "id": "5c36ce48",
   "metadata": {},
   "outputs": [],
   "source": [
    "from collections import deque\n",
    "class solution:\n",
    "    def maxsequence(self,nums):\n",
    "        maxle=0\n",
    "        setnums=set(nums)\n",
    "        for i in range(len(nums)):\n",
    "            if (nums[i]-1) not in setnums:\n",
    "                le=1\n",
    "                while (nums[i]+le) in setnums:\n",
    "                    le+=1\n",
    "                maxle=max(maxle,le)\n",
    "            else:\n",
    "                continue\n",
    "        return maxle\n",
    "\n",
    "so=solution()\n",
    "n=int(input())\n",
    "nums=list(map(int,input().split()))\n",
    "print(so.maxsequence(nums))\n"
   ]
  },
  {
   "cell_type": "markdown",
   "id": "503ac2e3",
   "metadata": {},
   "source": [
    "## 2.双指针"
   ]
  },
  {
   "cell_type": "markdown",
   "id": "42bfe709",
   "metadata": {},
   "source": [
    "### 1.同起点/紧挨着的双指针--移动零"
   ]
  },
  {
   "cell_type": "markdown",
   "id": "d545cbae",
   "metadata": {},
   "source": [
    "两种思路:\n",
    "1.挨个判断0移动到后面---需要考虑更多边界条件\n",
    "2.移动非0到前面---更简洁,但会自己移动自己"
   ]
  },
  {
   "cell_type": "code",
   "execution_count": null,
   "id": "1ef00bc0",
   "metadata": {},
   "outputs": [],
   "source": [
    "# 移动0 -后移\n",
    "class solution:\n",
    "    def movezero(self,nums):\n",
    "        left=0\n",
    "        right=1\n",
    "        while right<len(nums):\n",
    "            if nums[left]==0 and nums[right]!=0:\n",
    "                nums[left],nums[right]=nums[right],nums[left]\n",
    "                right+=1\n",
    "                left+=1\n",
    "            elif nums[left]==0:\n",
    "                if nums[right]==0:\n",
    "                    right+=1\n",
    "            else:\n",
    "                right+=1\n",
    "                left+=1\n",
    "so=solution()\n",
    "n=int(input())\n",
    "nums=list(map(int,input().split()))\n",
    "so.movezero(nums)\n",
    "print(*nums)\n",
    "\n"
   ]
  },
  {
   "cell_type": "code",
   "execution_count": null,
   "id": "6eed0bc8",
   "metadata": {},
   "outputs": [],
   "source": [
    "# 移动非0--前移\n",
    "class Solution:\n",
    "    def moveZeroes(self, nums):\n",
    "        n = len(nums)\n",
    "        i = 0  # 记录非零元素应放置的位置\n",
    "        \n",
    "        # 遍历数组，将非零元素移到前面\n",
    "        for j in range(n):\n",
    "            if nums[j] != 0:\n",
    "                nums[i], nums[j] = nums[j], nums[i]  # 交换非零元素到前面\n",
    "                i += 1  # 移动非零元素位置索引\n",
    "\n",
    "# 读入数据并调用函数\n",
    "n = int(input().strip())\n",
    "nums = list(map(int, input().split()))\n",
    "Solution().moveZeroes(nums)\n",
    "print(\" \".join(map(str, nums)))\n"
   ]
  },
  {
   "cell_type": "markdown",
   "id": "a4e432d7",
   "metadata": {},
   "source": [
    "### 2.两头指针移动之优化(贪心)多移动其中一头--盛水最多容器"
   ]
  },
  {
   "cell_type": "markdown",
   "id": "31242b96",
   "metadata": {},
   "source": [
    "学:\n",
    "1.我在想优化双指针，移动指针的时候跳过比当前短板更短的时候,循环没写好容易写成死循环,要记住这样写!:\n",
    "    cur_left=nums[left] #要在循环外定义cur_left,方便比较\n",
    "    while left < right and nums[left]<=cur_left:\n",
    "                    left+=1 #只在循环里面叠加\n",
    "        不要忘记判断left<right且将nums[left]<=cur_left:放入同级别的while中"
   ]
  },
  {
   "cell_type": "code",
   "execution_count": null,
   "id": "acd2abc6",
   "metadata": {},
   "outputs": [],
   "source": [
    "class solution:\n",
    "    def maxwater(self,nums):\n",
    "        left=0\n",
    "        right=len(nums)-1\n",
    "        res=0        \n",
    "        while left<right:\n",
    "            v=min(nums[left],nums[right])*(right-left)\n",
    "            res=max(res,v)\n",
    "            if nums[left]<nums[right]:\n",
    "                cur_left=nums[left]\n",
    "                while left < right and nums[left]<=cur_left:\n",
    "                    left+=1\n",
    "                    \n",
    "            else:\n",
    "                cur_right=nums[right]\n",
    "                while left < right and nums[right]<=cur_right:\n",
    "                    right-=1\n",
    "                        \n",
    "        return res\n",
    "so=solution()\n",
    "n=int(input())\n",
    "nums=list(map(int,input().split()))\n",
    "print(so.maxwater(nums))\n",
    "                "
   ]
  }
 ],
 "metadata": {
  "kernelspec": {
   "display_name": "data_analysis",
   "language": "python",
   "name": "python3"
  },
  "language_info": {
   "codemirror_mode": {
    "name": "ipython",
    "version": 3
   },
   "file_extension": ".py",
   "mimetype": "text/x-python",
   "name": "python",
   "nbconvert_exporter": "python",
   "pygments_lexer": "ipython3",
   "version": "3.12.11"
  }
 },
 "nbformat": 4,
 "nbformat_minor": 5
}
