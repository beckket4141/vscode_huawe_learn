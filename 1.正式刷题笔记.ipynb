{
 "cells": [
  {
   "cell_type": "markdown",
   "id": "db84b398",
   "metadata": {},
   "source": [
    "# 0.标准输入输出"
   ]
  },
  {
   "cell_type": "markdown",
   "id": "49a30823",
   "metadata": {},
   "source": [
    "## 输入\n",
    "1.n,k=map(int,input().strip().strip())"
   ]
  },
  {
   "cell_type": "markdown",
   "id": "d3b6313b",
   "metadata": {},
   "source": [
    "## 1.sys中的输入"
   ]
  },
  {
   "cell_type": "code",
   "execution_count": 1,
   "id": "5569e6d4",
   "metadata": {},
   "outputs": [
    {
     "ename": "IndentationError",
     "evalue": "unexpected indent (3718808055.py, line 2)",
     "output_type": "error",
     "traceback": [
      "  \u001b[36mCell\u001b[39m\u001b[36m \u001b[39m\u001b[32mIn[1]\u001b[39m\u001b[32m, line 2\u001b[39m\n\u001b[31m    \u001b[39m\u001b[31mfor line in  sys.stdin:\u001b[39m\n    ^\n\u001b[31mIndentationError\u001b[39m\u001b[31m:\u001b[39m unexpected indent\n"
     ]
    }
   ],
   "source": [
    "sensor=[]\n",
    "    for line in  sys.stdin:\n",
    "        line=line.strip()\n",
    "        if not line:\n",
    "            continue\n",
    "        a,b=map(int,line.split())\n",
    "        sensor.append([a,b])\n",
    "    if not sensor:\n",
    "        sys.exit(0)"
   ]
  },
  {
   "cell_type": "markdown",
   "id": "2d2bdb9d",
   "metadata": {},
   "source": [
    "### 1.1 逐行读取到一个列表中---每一行作为一个列表中的元素"
   ]
  },
  {
   "cell_type": "code",
   "execution_count": null,
   "id": "e0f0ff5d",
   "metadata": {},
   "outputs": [],
   "source": [
    "for line in sys.stdin:\n",
    "    line=line.strip()\n",
    "    listall=list(map(int,line.split()))\n"
   ]
  },
  {
   "cell_type": "code",
   "execution_count": null,
   "id": "457c6647",
   "metadata": {},
   "outputs": [],
   "source": [
    " intervals = [list(map(int, input().split())) for _ in range(n)]  # 逐行读取输入，每一行作为一个列表中的元素"
   ]
  },
  {
   "cell_type": "markdown",
   "id": "1e33a135",
   "metadata": {},
   "source": [
    "\n",
    "1. 使用`sys.stdin`可以逐行读取标准输入，通过for循环遍历每一行输入内容。\n",
    "2. 对每一行使用`line.strip()`去除首尾空白字符，并用if判断跳过空行。\n",
    "3. 使用`map(int,line.split())`将每行的字符串按空格分割并转换为整数，然后赋值给变量。\n",
    "4. 将处理后的数据存储在列表中（如sensor），当没有输入数据时使用`sys.exit(0)`退出程序。\n",
    "\n",
    "这四句话概括了你选中代码中处理标准输入的核心要点。"
   ]
  },
  {
   "cell_type": "markdown",
   "id": "f0ef8dd2",
   "metadata": {},
   "source": [
    "### 2.1 sys.stdin.read\n",
    "在 Python 中，sys.stdin 代表 “标准输入流”（通常是键盘输入，或通过管道 / 文件传入的输入），它是一个类文件对象，支持文件对象的常用方法。\n",
    "\n",
    "sys.stdin.read() 中的 read() 是这个流对象的一个方法，\n",
    "\n",
    "1. 作用是：一次性读取输入流中的所有数据，直到结束（遇到 EOF，即 “文件结束符”），并将读取到的内容以字符串形式返回。\n",
    "\n",
    " 返回的是输入数据的字符串!"
   ]
  },
  {
   "cell_type": "markdown",
   "id": "012b6483",
   "metadata": {},
   "source": [
    "## 2.输出"
   ]
  },
  {
   "cell_type": "markdown",
   "id": "7e48af04",
   "metadata": {},
   "source": [
    "print(f\"{inter[0]} {inter[1]}\")   f-string写法\n",
    "\n",
    "解释：\n",
    "1.  前缀：\n",
    "字符串前的 f 是关键标记，告诉 Python：“这个字符串里有需要动态替换的变量 / 表达式，请解析它们的值并拼接成最终字符串”。\n",
    "2. {} 占位符：\n",
    "字符串中的 {inter[0]} 和 {inter[1]} 是 “占位符”，Python 会自动计算 inter[0] 和 inter[1] 的值，然后用这些值替换占位符。\n",
    "假设 inter 是一个区间列表（比如 [1, 6]），那么 inter[0] 的值是 1，inter[1] 的值是 6。\n",
    "3. 最终字符串拼接：\n",
    "替换后，f\"{inter[0]} {inter[1]}\" 会变成 \"1 6\"（以 inter = [1,6] 为例），再通过 print() 函数输出到控制台，正好符合题目 “每行输出一个区间，用空格分隔两个数字” 的要求。"
   ]
  },
  {
   "cell_type": "markdown",
   "id": "35ecc5b7",
   "metadata": {},
   "source": [
    "print(f\"{inter[0]} {inter[1]}\") "
   ]
  },
  {
   "cell_type": "markdown",
   "id": "6f699825",
   "metadata": {},
   "source": []
  },
  {
   "cell_type": "markdown",
   "id": "33e749bd",
   "metadata": {},
   "source": [
    "## 1.哈希表\n"
   ]
  },
  {
   "cell_type": "markdown",
   "id": "360d4950",
   "metadata": {},
   "source": [
    "### 1.转换思路之 数组中选两数求和为目标值---a+b=target\n",
    "- 创建一个字典，将nums中的元素作为key，索引作为value\n",
    "- 遍历nums，判断target-nums[i]是否在字典中，是则返回结果,否，则将nums[i]作为key，索引作为value加入字典!\n",
    "- 时间复杂度：O(n)\n",
    "- 空间复杂度：O(n)"
   ]
  },
  {
   "cell_type": "code",
   "execution_count": null,
   "id": "86c75801",
   "metadata": {},
   "outputs": [],
   "source": [
    "n,target=map(int,input().split())\n",
    "nums=list(map(int,input().split()))\n",
    "dic={}\n",
    "for i in range(n):\n",
    "    complement=target-nums[i]\n",
    "    if complement in dic:\n",
    "        print(dic[complement],i)\n",
    "        exit()\n",
    "    dic[nums[i]]=i"
   ]
  },
  {
   "cell_type": "markdown",
   "id": "f234496a",
   "metadata": {},
   "source": [
    "### 2.怎么选取健和值--字母异位词分组\n",
    "思路:\n",
    "1. 创建一个字典，key为排序后的字符串，value为列表，列表中存放的是原字符串---这样异位词组的健就是一样的!\n",
    "=================================================================================\n",
    "2. 遍历字符串列表，将字符串排序，并作为key，将原字符串作为value添加到字典中\n",
    "3. 遍历字典，将value列表中的字符串添加到一个新的列表中，并返回新的列表\n",
    "\n",
    "学:\n",
    "1.注意!:sorted(s) 返回的是列表（list），而列表是不可哈希的,所以不能作为字典的key--要用key=\"\".join(sorted(s))\n",
    "2.用collections中的defaultdict来创建字典--默认字典，字典的key不存在时，会创建一个空的列表，并返回该列表\n",
    "3.\"\".join(Listt)来将列表Listt中的元素连接成一个字符串"
   ]
  },
  {
   "cell_type": "code",
   "execution_count": null,
   "id": "5f0d9a5c",
   "metadata": {},
   "outputs": [],
   "source": [
    "from collections import defaultdict\n",
    "class solution:\n",
    "    def groupanagrams(self,strs):\n",
    "        mp=defaultdict(list)\n",
    "        for s in strs:\n",
    "            key=\"\".join(sorted(s))\n",
    "            mp[key].append(s)\n",
    "        return list(mp.values())\n",
    "if __name__==\"__main__\":\n",
    "    n=int(input())\n",
    "    strs=input().split()\n",
    "    so=solution()\n",
    "    res=so.groupanagrams(strs)\n",
    "    for group in res:\n",
    "        #print(\" \".join(group))\n",
    "        print(*group)"
   ]
  },
  {
   "cell_type": "markdown",
   "id": "75ed482b",
   "metadata": {},
   "source": [
    "### 3.巨帅的贪心哈希解法--最长连续序列"
   ]
  },
  {
   "cell_type": "markdown",
   "id": "1ac88665",
   "metadata": {},
   "source": [
    "学:\n",
    "\n",
    "1.**利用set(nums)方便查找nums[i]-1/nums[i]+1是否在nums中---set()查找效率高O(1)!!!!!**\n",
    "\n",
    "2.nums[i]-1不在set(nums)中说明其就是一个序列的起点\n",
    "\n",
    "3.nums[i]+1在set(nums)中,说明该序列长度可以增加--le+=1,一直到找不到为止就是nums[i]序列的最终连续长度\n",
    "\n",
    "4.maxlen = max(maxlen, le)找到最长长度"
   ]
  },
  {
   "cell_type": "code",
   "execution_count": null,
   "id": "5c36ce48",
   "metadata": {},
   "outputs": [],
   "source": [
    "from collections import deque\n",
    "class solution:\n",
    "    def maxsequence(self,nums):\n",
    "        maxle=0\n",
    "        setnums=set(nums)\n",
    "        for i in range(len(nums)):\n",
    "            if (nums[i]-1) not in setnums:\n",
    "                le=1\n",
    "                while (nums[i]+le) in setnums:\n",
    "                    le+=1\n",
    "                maxle=max(maxle,le)\n",
    "            else:\n",
    "                continue\n",
    "        return maxle\n",
    "\n",
    "so=solution()\n",
    "n=int(input())\n",
    "nums=list(map(int,input().split()))\n",
    "print(so.maxsequence(nums))\n"
   ]
  },
  {
   "cell_type": "markdown",
   "id": "ee310581",
   "metadata": {},
   "source": [
    "### 4.技巧--字符为key,出现次数为value\n",
    "dict.get(key, default) 可以获取键 key 对应的值，若键不存在则返回 default（这里用 0 作为默认值）。\n"
   ]
  },
  {
   "cell_type": "code",
   "execution_count": 1,
   "id": "a0bec6be",
   "metadata": {},
   "outputs": [],
   "source": [
    "from collections import defaultdict\n",
    "\n",
    "class Solution:\n",
    "    def allsubword(self, s, p):\n",
    "        ns, np = len(s), len(p)\n",
    "        dic = {}  # 存储p中字符的出现次数\n",
    "        for char in p:  # 直接遍历p中的每个字符（比用索引更直观）\n",
    "            # 若char在dic中，获取其当前值+1；若不在，用0+1（即初始化为1）\n",
    "            dic[char] = dic.get(char, 0) + 1\n",
    "        return dic  # 测试用，实际可根据需求处理"
   ]
  },
  {
   "cell_type": "markdown",
   "id": "41393c1c",
   "metadata": {},
   "source": [
    "5.技巧--删除字典中的健"
   ]
  },
  {
   "cell_type": "code",
   "execution_count": 2,
   "id": "b76436fb",
   "metadata": {},
   "outputs": [
    {
     "ename": "NameError",
     "evalue": "name 'scount' is not defined",
     "output_type": "error",
     "traceback": [
      "\u001b[31m---------------------------------------------------------------------------\u001b[39m",
      "\u001b[31mNameError\u001b[39m                                 Traceback (most recent call last)",
      "\u001b[36mCell\u001b[39m\u001b[36m \u001b[39m\u001b[32mIn[2]\u001b[39m\u001b[32m, line 1\u001b[39m\n\u001b[32m----> \u001b[39m\u001b[32m1\u001b[39m \u001b[38;5;28;01mdel\u001b[39;00m scount[s[i-np]]\n",
      "\u001b[31mNameError\u001b[39m: name 'scount' is not defined"
     ]
    }
   ],
   "source": [
    "del scount[s[i-np]]"
   ]
  },
  {
   "cell_type": "markdown",
   "id": "bf298f0f",
   "metadata": {},
   "source": [
    "### 6.技巧使用Counter\n",
    "from collections import Counter"
   ]
  },
  {
   "cell_type": "markdown",
   "id": "2a6aafae",
   "metadata": {},
   "source": [
    "Counter 的内容以 键值对 的形式存储，与普通字典类似：\n",
    "键（key）：被计数的元素（比如字符串中的每个字符、列表中的每个元素等）。\n",
    "值（value）：该元素出现的次数（非负整数）。"
   ]
  },
  {
   "cell_type": "markdown",
   "id": "503ac2e3",
   "metadata": {},
   "source": [
    "## 2.双指针"
   ]
  },
  {
   "cell_type": "markdown",
   "id": "42bfe709",
   "metadata": {},
   "source": [
    "### 1.同起点/紧挨着的双指针--移动零"
   ]
  },
  {
   "cell_type": "markdown",
   "id": "d545cbae",
   "metadata": {},
   "source": [
    "两种思路:\n",
    "1.挨个判断0移动到后面---需要考虑更多边界条件\n",
    "2.移动非0到前面---更简洁,但会自己移动自己"
   ]
  },
  {
   "cell_type": "code",
   "execution_count": null,
   "id": "1ef00bc0",
   "metadata": {},
   "outputs": [],
   "source": [
    "# 移动0 -后移\n",
    "class solution:\n",
    "    def movezero(self,nums):\n",
    "        left=0\n",
    "        right=1\n",
    "        while right<len(nums):\n",
    "            if nums[left]==0 and nums[right]!=0:\n",
    "                nums[left],nums[right]=nums[right],nums[left]\n",
    "                right+=1\n",
    "                left+=1\n",
    "            elif nums[left]==0:\n",
    "                if nums[right]==0:\n",
    "                    right+=1\n",
    "            else:\n",
    "                right+=1\n",
    "                left+=1\n",
    "so=solution()\n",
    "n=int(input())\n",
    "nums=list(map(int,input().split()))\n",
    "so.movezero(nums)\n",
    "print(*nums)\n",
    "\n"
   ]
  },
  {
   "cell_type": "code",
   "execution_count": null,
   "id": "6eed0bc8",
   "metadata": {},
   "outputs": [],
   "source": [
    "# 移动非0--前移\n",
    "class Solution:\n",
    "    def moveZeroes(self, nums):\n",
    "        n = len(nums)\n",
    "        i = 0  # 记录非零元素应放置的位置\n",
    "        \n",
    "        # 遍历数组，将非零元素移到前面\n",
    "        for j in range(n):\n",
    "            if nums[j] != 0:\n",
    "                nums[i], nums[j] = nums[j], nums[i]  # 交换非零元素到前面\n",
    "                i += 1  # 移动非零元素位置索引\n",
    "\n",
    "# 读入数据并调用函数\n",
    "n = int(input().strip())\n",
    "nums = list(map(int, input().split()))\n",
    "Solution().moveZeroes(nums)\n",
    "print(\" \".join(map(str, nums)))\n"
   ]
  },
  {
   "cell_type": "markdown",
   "id": "a4e432d7",
   "metadata": {},
   "source": [
    "### 2.两头指针移动之优化(贪心)多移动其中一头--盛水最多容器"
   ]
  },
  {
   "cell_type": "markdown",
   "id": "31242b96",
   "metadata": {},
   "source": [
    "学:\n",
    "1.我在想优化双指针，移动指针的时候跳过比当前短板更短的时候,循环没写好容易写成死循环,要记住这样写!:\n",
    "    cur_left=nums[left] #要在循环外定义cur_left,方便比较\n",
    "    while left < right and nums[left]<=cur_left:\n",
    "                    left+=1 #只在循环里面叠加\n",
    "        不要忘记判断left<right且将nums[left]<=cur_left:放入同级别的while中"
   ]
  },
  {
   "cell_type": "code",
   "execution_count": null,
   "id": "acd2abc6",
   "metadata": {},
   "outputs": [],
   "source": [
    "class solution:\n",
    "    def maxwater(self,nums):\n",
    "        left=0\n",
    "        right=len(nums)-1\n",
    "        res=0        \n",
    "        while left<right:\n",
    "            v=min(nums[left],nums[right])*(right-left)\n",
    "            res=max(res,v)\n",
    "            if nums[left]<nums[right]:\n",
    "                cur_left=nums[left]\n",
    "                while left < right and nums[left]<=cur_left:\n",
    "                    left+=1\n",
    "                    \n",
    "            else:\n",
    "                cur_right=nums[right]\n",
    "                while left < right and nums[right]<=cur_right:\n",
    "                    right-=1\n",
    "                        \n",
    "        return res\n",
    "so=solution()\n",
    "n=int(input())\n",
    "nums=list(map(int,input().split()))\n",
    "print(so.maxwater(nums))\n",
    "                "
   ]
  },
  {
   "cell_type": "markdown",
   "id": "21c3a1b9",
   "metadata": {},
   "source": [
    "### 3.三个指针（去重写法）--三数之和"
   ]
  },
  {
   "cell_type": "markdown",
   "id": "a13b2174",
   "metadata": {},
   "source": [
    "学：\n",
    "\n",
    "1.固定一个指针i，滑动窗口两个指针k=i+1,j=len(nums)-1开始滑\n",
    "\n",
    "2.每次i的循环注意k=i+1,j=len(nums)-1要重新初始化\n",
    "\n",
    "3.去重的时候主要在（1）i的外循环注意and边界条件i<len(nums）-2)（2）内循环total=0的时候（注意and边界条件k<j）\n"
   ]
  },
  {
   "cell_type": "code",
   "execution_count": null,
   "id": "197b3d57",
   "metadata": {},
   "outputs": [],
   "source": [
    "class Solution:\n",
    "    def threeSum(self, nums):\n",
    "        \"\"\"\n",
    "        三数之和，双指针法\n",
    "        :param nums: List[int] 代表输入数组\n",
    "        :return: List[List[int]] 符合条件的三元组列表\n",
    "        \"\"\"\n",
    "        nums.sort()  # 先排序\n",
    "        n = len(nums)\n",
    "        res = []\n",
    "\n",
    "        for i in range(n - 2):\n",
    "            if i > 0 and nums[i] == nums[i - 1]:  # 跳过重复元素\n",
    "                continue\n",
    "\n",
    "            left, right = i + 1, n - 1  # 左右指针\n",
    "            while left < right:\n",
    "                total = nums[i] + nums[left] + nums[right]\n",
    "                if total < 0:\n",
    "                    left += 1\n",
    "                elif total > 0:\n",
    "                    right -= 1\n",
    "                else:\n",
    "                    res.append([nums[i], nums[left], nums[right]])\n",
    "                    # 跳过重复元素\n",
    "                    while left < right and nums[left] == nums[left + 1]:\n",
    "                        left += 1\n",
    "                    while left < right and nums[right] == nums[right - 1]:\n",
    "                        right -= 1\n",
    "                    left += 1\n",
    "                    right -= 1\n",
    "        return res\n",
    "\n",
    "# 读取输入\n",
    "if __name__ == \"__main__\":\n",
    "    n = int(input())  # 读取 n\n",
    "    nums = list(map(int, input().split()))  # 读取数组\n",
    "    solution = Solution()\n",
    "    results = solution.threeSum(nums)\n",
    "    for triplet in results:\n",
    "        print(\" \".join(map(str, triplet)))\n"
   ]
  },
  {
   "cell_type": "markdown",
   "id": "90100598",
   "metadata": {},
   "source": [
    "### 1.在滑动（滑动得前缀后缀max）的时候就根据贪心计算当前值--接雨水"
   ]
  },
  {
   "cell_type": "markdown",
   "id": "34da58a3",
   "metadata": {},
   "source": [
    "学：\n",
    "\n",
    "1.可以边滑动边计算值的原因：\n",
    "当 height[left] < height[right] 时，我们可以确定：\n",
    "右侧一定存在一个比 height[left] 更高的柱子（至少 height[right] 就是）。\n",
    "因此，left 位置的存水量只取决于左侧的最大高度（left_max），因为右侧的最大高度无论如何都不会小于 height[right]（而 height[right] 已经比 height[left] 大了）\n",
    "\n",
    "省空间！\n",
    "利用了贪心思想"
   ]
  },
  {
   "cell_type": "code",
   "execution_count": null,
   "id": "47c5bd23",
   "metadata": {},
   "outputs": [],
   "source": [
    "class Solution:\n",
    "    def trap(self, height):\n",
    "        if not height:\n",
    "            return 0\n",
    "        \n",
    "        left, right = 0, len(height) - 1\n",
    "        left_max, right_max = 0, 0\n",
    "        water = 0\n",
    "        \n",
    "        while left < right:\n",
    "            if height[left] < height[right]:\n",
    "                if height[left] >= left_max:\n",
    "                    left_max = height[left]\n",
    "                else:\n",
    "                    water += left_max - height[left]\n",
    "                left += 1\n",
    "            else:\n",
    "                if height[right] >= right_max:\n",
    "                    right_max = height[right]\n",
    "                else:\n",
    "                    water += right_max - height[right]\n",
    "                right -= 1\n",
    "        \n",
    "        return water\n",
    "\n",
    "# 读取输入并处理\n",
    "if __name__ == \"__main__\":\n",
    "    n = int(input())\n",
    "    height = list(map(int, input().split()))\n",
    "    solution = Solution()\n",
    "    print(solution.trap(height))\n"
   ]
  },
  {
   "cell_type": "markdown",
   "id": "ff485545",
   "metadata": {},
   "source": [
    "## 3.滑动窗口（双指针的子集）-双指针+连续区间"
   ]
  },
  {
   "cell_type": "markdown",
   "id": "076b28ec",
   "metadata": {},
   "source": [
    "### 1.滑动窗口的left可以用for循环，right用while循环（逻辑清楚）--求无重复的最长子串"
   ]
  },
  {
   "cell_type": "markdown",
   "id": "52204287",
   "metadata": {},
   "source": [
    "学：\n",
    "\n",
    "1.用集合set()来判断重复元素--查找，添加，删除的时间复杂度都是O(1)\n",
    "\n",
    "2.s=str(input())或者s= input()--字符串本身就是可迭代的，不需要用list()\n",
    "\n"
   ]
  },
  {
   "cell_type": "code",
   "execution_count": null,
   "id": "323c3c99",
   "metadata": {},
   "outputs": [],
   "source": [
    "class Solution:\n",
    "    def maxsubstr(self,s):\n",
    "        n=len(s)\n",
    "        record=set()\n",
    "        i=0\n",
    "        maxlen=0\n",
    "        for j in range(n):\n",
    "            while s[j] in record:               \n",
    "                record.discard(s[i])\n",
    "                i+=1\n",
    "            record.add(s[j])\n",
    "            maxlen=max(maxlen,j-i+1)\n",
    "                \n",
    "        return maxlen\n",
    "so=Solution()\n",
    "s=str(input())\n",
    "print(so.maxsubstr(s))\n",
    "                \n"
   ]
  },
  {
   "cell_type": "markdown",
   "id": "2736ad7d",
   "metadata": {},
   "source": [
    "### 2.单调队列/二叉堆辅助--滑动窗口的最大值"
   ]
  },
  {
   "cell_type": "markdown",
   "id": "bc569032",
   "metadata": {},
   "source": [
    "##### 1.双端单调队列的求法: 时间复杂度为O(n),空间复杂度O(k)\n",
    "\n",
    "：用单调递减队列仅保留窗口内 “候选最大值” 的索引，队头直接为当前窗口最大值，通过清理过期元素和较小元素维持高效。\n",
    "\n",
    "**压栈的思想!** + 队头元素判断是否在窗口内(popleft)\n"
   ]
  },
  {
   "cell_type": "code",
   "execution_count": null,
   "id": "46b5b2df",
   "metadata": {},
   "outputs": [],
   "source": [
    "from collections import deque\n",
    "import sys\n",
    "\n",
    "class Solution:\n",
    "    def maxSlidingWindow(self, nums, k):\n",
    "        deque_window = deque()  # 双端队列\n",
    "        result = []\n",
    "        \n",
    "        for i in range(len(nums)):\n",
    "            # 移除窗口左侧已过期的元素索引\n",
    "            if deque_window and deque_window[0] < i - k + 1:\n",
    "                deque_window.popleft()\n",
    "            \n",
    "            # 保持队列单调递减，移除所有小于当前元素的索引\n",
    "            while deque_window and nums[deque_window[-1]] < nums[i]:\n",
    "                deque_window.pop()\n",
    "            \n",
    "            # 添加当前元素索引\n",
    "            deque_window.append(i)\n",
    "            \n",
    "            # 记录最大值（窗口形成后）\n",
    "            if i >= k - 1:\n",
    "                result.append(nums[deque_window[0]])\n",
    "\n",
    "        return result\n",
    "\n",
    "if __name__ == \"__main__\":\n",
    "    # 读取输入\n",
    "    n, k = map(int, sys.stdin.readline().split())\n",
    "    nums = list(map(int, sys.stdin.readline().split()))\n",
    "    \n",
    "    # 计算滑动窗口最大值\n",
    "    solution = Solution()\n",
    "    result = solution.maxSlidingWindow(nums, k)\n",
    "    \n",
    "    # 输出结果\n",
    "    print(\" \".join(map(str, result)))\n"
   ]
  },
  {
   "cell_type": "markdown",
   "id": "1196fd0d",
   "metadata": {},
   "source": [
    "##### 2.二叉堆解法--时间复杂度O(nlogk),空间复杂度O(k)\n",
    "用堆存储窗口元素（含索引），借堆顶快速获取最大值，同时通过索引过滤超出窗口的过期元素。"
   ]
  },
  {
   "cell_type": "code",
   "execution_count": null,
   "id": "638247da",
   "metadata": {},
   "outputs": [],
   "source": [
    "from collections import deque\n",
    "import sys\n",
    "\n",
    "class Solution:\n",
    "    def maxSlidingWindow(self, nums, k):\n",
    "        deque_window = deque()  # 双端队列\n",
    "        result = []\n",
    "        \n",
    "        for i in range(len(nums)):\n",
    "            # 移除窗口左侧已过期的元素索引\n",
    "            if deque_window and deque_window[0] < i - k + 1:\n",
    "                deque_window.popleft()\n",
    "            \n",
    "            # 保持队列单调递减，移除所有小于当前元素的索引\n",
    "            while deque_window and nums[deque_window[-1]] < nums[i]:\n",
    "                deque_window.pop()\n",
    "            \n",
    "            # 添加当前元素索引\n",
    "            deque_window.append(i)\n",
    "            \n",
    "            # 记录最大值（窗口形成后）\n",
    "            if i >= k - 1:\n",
    "                result.append(nums[deque_window[0]])\n",
    "\n",
    "        return result\n",
    "\n",
    "if __name__ == \"__main__\":\n",
    "    # 读取输入\n",
    "    n, k = map(int, sys.stdin.readline().split())\n",
    "    nums = list(map(int, sys.stdin.readline().split()))\n",
    "    \n",
    "    # 计算滑动窗口最大值\n",
    "    solution = Solution()\n",
    "    result = solution.maxSlidingWindow(nums, k)\n",
    "    \n",
    "    # 输出结果\n",
    "    print(\" \".join(map(str, result)))\n"
   ]
  },
  {
   "cell_type": "markdown",
   "id": "3ef0b1b6",
   "metadata": {},
   "source": [
    "二叉堆方法依赖堆结构存储窗口元素（含过期元素），借堆顶取最大值--存了值和索引；单调队列方法则通过维持单调性仅保留窗口内有效候选元素，直接从队头取最大值--只存索引。"
   ]
  },
  {
   "cell_type": "markdown",
   "id": "050a7afc",
   "metadata": {},
   "source": [
    "### 3.使用字典辅助(Counter)--找到字符串中所有异位词"
   ]
  },
  {
   "cell_type": "markdown",
   "id": "2cbba42d",
   "metadata": {},
   "source": [
    "1. 采用固定大小（与p长度一致）的滑动窗口遍历s，通过字符频率计数（Counter）匹配异位词。\n",
    "2. 窗口滑动时仅更新新增和移除的字符计数，避免重复计算整个窗口，提升效率。\n",
    "3. 若当前窗口与pcounter一致，即字符频率完全一致，则记录窗口起始索引，即为有效异位词位置。"
   ]
  },
  {
   "cell_type": "code",
   "execution_count": null,
   "id": "03f3a4d9",
   "metadata": {},
   "outputs": [],
   "source": [
    "from collections import Counter\n",
    "\n",
    "class Solution:\n",
    "    def findAnagrams(self, s: str, p: str):\n",
    "        p_len, s_len = len(p), len(s)\n",
    "        if s_len < p_len:\n",
    "            return []\n",
    "\n",
    "        # 记录 p 的字符计数\n",
    "        p_count = Counter(p)\n",
    "        s_count = Counter(s[:p_len])  # 统计第一个窗口的字符\n",
    "\n",
    "        res = []\n",
    "        if p_count == s_count:\n",
    "            res.append(0)\n",
    "\n",
    "        for i in range(p_len, s_len):\n",
    "            # 新增字符\n",
    "            s_count[s[i]] += 1\n",
    "            # 移除窗口左端字符\n",
    "            s_count[s[i - p_len]] -= 1\n",
    "            if s_count[s[i - p_len]] == 0:\n",
    "                del s_count[s[i - p_len]]\n",
    "\n",
    "            # 检查窗口是否匹配\n",
    "            if s_count == p_count:\n",
    "                res.append(i - p_len + 1)\n",
    "\n",
    "        return res\n",
    "\n",
    "# 读取输入\n",
    "s = input().strip()\n",
    "p = input().strip()\n",
    "solution = Solution()\n",
    "result = solution.findAnagrams(s, p)\n",
    "print(\" \".join(map(str, result)))\n"
   ]
  },
  {
   "cell_type": "markdown",
   "id": "9f65d821",
   "metadata": {},
   "source": [
    "时间复杂度分析\n",
    "\n",
    " 1. 初始化 p_count 和 s_count 需要 O(m)，其中 m 是 p 的长度。\n",
    " 2. 滑动窗口遍历 s 需要 O(n)。\n",
    " 3. 比较两个哈希表（数组） 需要 O(1)（因为最多26个字母）。\n",
    " 4. 总时间复杂度 为 O(n+m)。\n",
    " 5. 空间复杂度为 O(26)。\n"
   ]
  },
  {
   "cell_type": "markdown",
   "id": "ca51e347",
   "metadata": {},
   "source": [
    "## 4.子串技巧汇总"
   ]
  },
  {
   "cell_type": "markdown",
   "id": "6800b62a",
   "metadata": {},
   "source": [
    "### 1.前缀和技巧（结合哈希表应对前缀和出现重复的情况--sums中有负数）--和为k的子数组(连续)\n",
    "哈希表记录健为presum[i]出现的次数!\n",
    "dic[presum[i]]=dic.get(presum[i],0)+1  \n"
   ]
  },
  {
   "cell_type": "markdown",
   "id": "150fac52",
   "metadata": {},
   "source": [
    "学规范\n",
    "\n",
    "前缀和代码标准：\n",
    "        n=len(nums)\n",
    "        presum=[0]*(n+1)\n",
    "        for i in range(1,n+1):\n",
    "            presum[i]=presum[i-1]+nums[i-1]"
   ]
  },
  {
   "cell_type": "code",
   "execution_count": null,
   "id": "c975345a",
   "metadata": {},
   "outputs": [],
   "source": [
    "class Solution:\n",
    "    def sumksubseq(self,nums,k):\n",
    "        n=len(nums)\n",
    "        presum=[0]*(n+1)\n",
    "        dic={0:1}\n",
    "        res=0\n",
    "        for i in range(1,n+1):\n",
    "            presum[i]=presum[i-1]+nums[i-1]\n",
    "            res+=dic.get(presum[i]-k,0)\n",
    "            dic[presum[i]]=dic.get(presum[i],0)+1            \n",
    "        return res\n",
    "\n",
    "if __name__ == \"__main__\":\n",
    "    n,k=map(int,input().strip().split())   \n",
    "    nums = list(map(int, input().strip().split()))\n",
    "    solution = Solution()\n",
    "    print(solution.sumksubseq(nums, k))\n"
   ]
  },
  {
   "cell_type": "markdown",
   "id": "1db8faf2",
   "metadata": {},
   "source": [
    "### 2.单调队列/二叉堆辅助--滑动窗口的最大值  见3.2"
   ]
  },
  {
   "cell_type": "markdown",
   "id": "7d4fec51",
   "metadata": {},
   "source": [
    "### 3.当要求为答案包含need=Counter()时，使用滑动窗口算法---最小覆盖子串"
   ]
  },
  {
   "cell_type": "markdown",
   "id": "165f8602",
   "metadata": {},
   "source": [
    "借助外部valid==need.size()看是否满足!"
   ]
  },
  {
   "cell_type": "markdown",
   "id": "63103cc2",
   "metadata": {},
   "source": [
    "解题思路\n",
    "1. 定义哈希表:\n",
    "\n",
    "    need: 存储 t 中各字符的需求数量。\n",
    "    window: 记录当前窗口内字符的出现次数。\n",
    "2. 扩展窗口:\n",
    "\n",
    "    使用双指针 left 和 right，初始时 left=0, right=0。\n",
    "    右指针 right 右移，扩展窗口，并更新 window。\n",
    "    维护变量 valid，表示窗口中满足 t 要求的字符种类数。\n",
    "3. 收缩窗口:\n",
    "\n",
    "    当 valid 等于 need.size()（即窗口已包含 t 中所有字符）：\n",
    "    记录当前最短子串的起始位置 start 和长度 min_length。\n",
    "    左指针 left 右移，缩小窗口，继续寻找最短覆盖子串。\n",
    "4. 返回结果:\n",
    "\n",
    "    若找到有效子串，返回 s[start:start+min_length]。\n",
    "    否则返回 \"\"。\n",
    "5. 复杂度分析\n",
    "\n",
    "    时间复杂度：( O(m + n) )（遍历 s 一次，每个字符最多进出窗口一次）。\n",
    "    空间复杂度：( O(1) )（哈希表存储字符，最多 26 个字母）。"
   ]
  },
  {
   "cell_type": "code",
   "execution_count": null,
   "id": "ff4ef51f",
   "metadata": {},
   "outputs": [],
   "source": [
    "def min_window(s: str, t: str) -> str:\n",
    "    from collections import Counter\n",
    "\n",
    "    need = Counter(t)  # 统计 t 中字符的需求数量\n",
    "    window = {}  # 记录窗口内字符的频率\n",
    "    left = right = valid = 0\n",
    "    start, min_length = 0, float('inf')\n",
    "\n",
    "    while right < len(s):\n",
    "        c = s[right]  # 即将进入窗口的字符\n",
    "        right += 1  # 扩展窗口\n",
    "\n",
    "        if c in need:\n",
    "            window[c] = window.get(c, 0) + 1\n",
    "            if window[c] == need[c]:  # 当字符频率匹配时，valid 增加\n",
    "                valid += 1\n",
    "\n",
    "        # 当窗口满足条件时，尝试收缩窗口\n",
    "        while valid == len(need):\n",
    "            # 更新最小覆盖子串\n",
    "            if right - left < min_length:\n",
    "                start, min_length = left, right - left\n",
    "\n",
    "            d = s[left]  # 即将移出窗口的字符\n",
    "            left += 1  # 缩小窗口\n",
    "\n",
    "            if d in need:\n",
    "                if window[d] == need[d]:  # 失去一个满足的字符\n",
    "                    valid -= 1\n",
    "                window[d] -= 1\n",
    "\n",
    "    return \"\" if min_length == float('inf') else s[start:start + min_length]\n",
    "\n",
    "\n",
    "if __name__ == \"__main__\":\n",
    "    s = input().strip()\n",
    "    t = input().strip()\n",
    "    print(min_window(s, t))\n"
   ]
  },
  {
   "cell_type": "markdown",
   "id": "dd542df8",
   "metadata": {},
   "source": [
    "## 5.数组技巧"
   ]
  },
  {
   "cell_type": "markdown",
   "id": "65ec7fcc",
   "metadata": {},
   "source": [
    "### 1.贪心求最大子数组和--维护两个最大(全局最大和,当前最大和)"
   ]
  },
  {
   "cell_type": "markdown",
   "id": "d07d9ff0",
   "metadata": {},
   "source": [
    "卡丹算法: ==**主要思想集中在当前最大和的计算**==\n",
    "\n",
    "1. 贪心核心:只要之前的累积和是正数，就值得继续累加（因为正数 + 当前元素 比 当前元素单独开始更优）；如果之前的累积和是负数，就果断从当前元素重新开始（因为负数 + 当前元素比当前元素单独开始更差）。\n",
    "\n",
    "不要陷入细节,只考虑最小的最开始的时候的这个子问题-----贪心核心"
   ]
  },
  {
   "cell_type": "code",
   "execution_count": null,
   "id": "6fd6b7da",
   "metadata": {},
   "outputs": [],
   "source": [
    "class Solution:\n",
    "    def maxSubArray(self, nums):\n",
    "        # 初始化最大子数组和为最小值，当前子数组和为0\n",
    "        maxSum = float('-inf')\n",
    "        currentSum = 0\n",
    "\n",
    "        for num in nums:\n",
    "            # 计算当前最大子数组和\n",
    "            currentSum = max(num, currentSum + num)\n",
    "            # 更新全局最大子数组和\n",
    "            maxSum = max(maxSum, currentSum)\n",
    "\n",
    "        return maxSum\n",
    "\n",
    "if __name__ == \"__main__\":\n",
    "    # 读取输入\n",
    "    n = int(input().strip())\n",
    "    nums = list(map(int, input().split()))\n",
    "    \n",
    "    # 计算最大子数组和并输出\n",
    "    solution = Solution()\n",
    "    print(solution.maxSubArray(nums))\n"
   ]
  },
  {
   "cell_type": "markdown",
   "id": "80a57351",
   "metadata": {},
   "source": [
    "### 2.多次翻转数组---起到置换门的作用（轮转数组）"
   ]
  },
  {
   "cell_type": "markdown",
   "id": "3a03e4ff",
   "metadata": {},
   "source": [
    "思想：---三次翻转。----\n",
    "\n",
    "1. 先明确目标：右移 k 步的本质是什么？\n",
    "    以题目中的例子为例：\n",
    "    原数组：[1,2,3,4,5,6,7]，右移 3 步后结果是[5,6,7,1,2,3,4]。\n",
    "    观察发现：右移 3 步的本质是 ——\n",
    "    把原数组分成两部分：\n",
    "    后半部分：最后 3 个元素 [5,6,7]（记为 B）\n",
    "    前半部分：剩下的 4 个元素 [1,2,3,4]（记为 A）\n",
    "    最终结果就是 B 放在 A 前面，即 B + A（[5,6,7] + [1,2,3,4]）。\n",
    "\n",
    "2. 第一步：翻转整个数组（A+B → reverse (B) + reverse (A)）\n",
    "\n",
    "3. 第二步：翻转前 k 个元素（reverse (B) → B）总体变成 B + reverse (A)\n",
    "\n",
    "4. 第三步：翻转后 n-k 个元素（reverse (A) → A）总体变成 B + A + reverse (A)"
   ]
  },
  {
   "cell_type": "code",
   "execution_count": null,
   "id": "94dad021",
   "metadata": {},
   "outputs": [],
   "source": [
    "class Solution:\n",
    "    def rotate_arry(self,nums,k):\n",
    "        n=len(nums)\n",
    "        k=k%n\n",
    "        nums.reverse()\n",
    "        nums[:k]=reversed(nums[:k])\n",
    "        nums[k:]=reversed(nums[k:])\n",
    "        return nums\n",
    "    \n",
    "if __name__ == \"__main__\":\n",
    "    n=int(input().strip())\n",
    "    nums=list(map(int,input().strip().split()))\n",
    "    k=int(input().strip())\n",
    "    so=Solution()\n",
    "    print(\" \".join(map(str,so.rotate_arry(nums,k))))\n",
    "    "
   ]
  },
  {
   "cell_type": "markdown",
   "id": "bf3d7173",
   "metadata": {},
   "source": [
    "### 3.前缀积和后缀积 --除自身以外数组的乘积（规避除0风险）！"
   ]
  },
  {
   "cell_type": "markdown",
   "id": "62ccc340",
   "metadata": {},
   "source": [
    "两次for 循环\n",
    "\n",
    "1. 第一次for循环，从前往后将answer中计入前缀积\n",
    "2. 第二次for循环，从后往前，往answer中累乘上后缀积 "
   ]
  },
  {
   "cell_type": "code",
   "execution_count": null,
   "id": "7b3d5bce",
   "metadata": {},
   "outputs": [],
   "source": [
    "def product_except_self(nums):\n",
    "    \"\"\"\n",
    "    计算除自身以外的乘积\n",
    "    \"\"\"\n",
    "    n = len(nums)\n",
    "    answer = [1] * n\n",
    "\n",
    "    # 计算前缀积\n",
    "    prefix = 1\n",
    "    for i in range(n):\n",
    "        answer[i] = prefix\n",
    "        prefix *= nums[i]\n",
    "\n",
    "    # 计算后缀积\n",
    "    suffix = 1\n",
    "    for i in range(n-1, -1, -1):\n",
    "        answer[i] *= suffix\n",
    "        suffix *= nums[i]\n",
    "\n",
    "    return answer\n",
    "\n",
    "if __name__ == \"__main__\":\n",
    "    n = int(input())\n",
    "    nums = list(map(int, input().split()))\n",
    "\n",
    "    result = product_except_self(nums)\n",
    "    print(\" \".join(map(str, result)))\n"
   ]
  },
  {
   "cell_type": "markdown",
   "id": "36b7308a",
   "metadata": {},
   "source": [
    "### 4.原地置换法（空间复杂度为O(1)）---缺失的第一个数"
   ]
  },
  {
   "cell_type": "markdown",
   "id": "f9ef39a0",
   "metadata": {},
   "source": [
    "1. 遍历数组，将 nums[i] 放到正确的位置 nums[i] - 1（即 1 应该在索引 0，2 应该在 1）。\n",
    "2. 遍历一次数组，找到第一个 nums[i] != i + 1 的位置，返回 i + 1 作为答案。\n",
    "\n",
    "核心思想：nums[i]放索引nums[i]-1处！！！ ---太妙了"
   ]
  },
  {
   "cell_type": "code",
   "execution_count": null,
   "id": "89a745b5",
   "metadata": {},
   "outputs": [],
   "source": [
    "def first_missing_positive(nums):\n",
    "    \"\"\"\n",
    "    找到数组中缺失的最小正整数\n",
    "    \"\"\"\n",
    "    n = len(nums)\n",
    "    \n",
    "    # 置换到正确位置\n",
    "    for i in range(n):\n",
    "        while 1 <= nums[i] <= n and nums[i] != nums[nums[i] - 1]: #碰到nums[i]大于n的就跳过，此时必定又答案<=n\n",
    "            nums[nums[i] - 1], nums[i] = nums[i], nums[nums[i] - 1]\n",
    "\n",
    "    # 找到第一个 nums[i] != i + 1\n",
    "    for i in range(n):\n",
    "        if nums[i] != i + 1:\n",
    "            return i + 1\n",
    "\n",
    "    return n + 1\n",
    "\n",
    "if __name__ == \"__main__\":\n",
    "    n = int(input())\n",
    "    nums = list(map(int, input().split()))\n",
    "    print(first_missing_positive(nums))\n"
   ]
  },
  {
   "cell_type": "markdown",
   "id": "8e09ebd1",
   "metadata": {},
   "source": [
    "## 6.二叉树"
   ]
  },
  {
   "cell_type": "markdown",
   "id": "859553de",
   "metadata": {},
   "source": [
    "### 1.二叉树的写入"
   ]
  },
  {
   "cell_type": "markdown",
   "id": "66c27053",
   "metadata": {},
   "source": [
    "1. 判断父节点:"
   ]
  },
  {
   "cell_type": "code",
   "execution_count": null,
   "id": "15cc0695",
   "metadata": {},
   "outputs": [],
   "source": [
    "parent = nodes[(index-1)//2]"
   ]
  },
  {
   "cell_type": "markdown",
   "id": "46af0d33",
   "metadata": {},
   "source": [
    "2. 判断是左还是右子树:"
   ]
  },
  {
   "cell_type": "code",
   "execution_count": null,
   "id": "7256b10b",
   "metadata": {},
   "outputs": [],
   "source": [
    "if index % 2 == 1:\n",
    "    parent.left=node\n",
    "else:\n",
    "    parent.right=node"
   ]
  },
  {
   "cell_type": "markdown",
   "id": "28e2a9a4",
   "metadata": {},
   "source": [
    "3. 将已判断完的节点加入已访问列表node"
   ]
  },
  {
   "cell_type": "code",
   "execution_count": null,
   "id": "cb8b0bb3",
   "metadata": {},
   "outputs": [],
   "source": [
    "root=TreeNode(nums)\n",
    "nodes.append(root)\n",
    "while xxx:\n",
    "    if xxx:\n",
    "        if xxx:\n",
    "            if xxx:\n",
    "                xxxxxxx\n",
    "            else:\n",
    "                xxxxx\n",
    "        node.append(node)\n"
   ]
  },
  {
   "cell_type": "markdown",
   "id": "0c1ac8c2",
   "metadata": {},
   "source": [
    "完整代码:"
   ]
  },
  {
   "cell_type": "code",
   "execution_count": null,
   "id": "f83a1abe",
   "metadata": {},
   "outputs": [],
   "source": [
    "def build_tree(level_order):\n",
    "    # 将层次遍历结果构建成二叉树\n",
    "    if not level_order or level_order[0] == 'null':\n",
    "        return None\n",
    "    \n",
    "    nodes = []\n",
    "    index = 0\n",
    "    root = TreeNode(int(level_order[index]))\n",
    "    nodes.append(root)\n",
    "    index += 1\n",
    "    \n",
    "    while index < len(level_order):\n",
    "        node_val = level_order[index]\n",
    "        if node_val != 'null':\n",
    "            node = TreeNode(int(node_val))\n",
    "            parent = nodes[(index - 1) // 2]\n",
    "            if index % 2 == 1:\n",
    "                parent.left = node\n",
    "            else:\n",
    "                parent.right = node\n",
    "            nodes.append(node)\n",
    "        index += 1\n",
    "    \n",
    "    return root"
   ]
  },
  {
   "cell_type": "code",
   "execution_count": null,
   "id": "4984b456",
   "metadata": {},
   "outputs": [],
   "source": [
    "if __name__==\"__main__\":\n",
    "    level_order=sys.stdin.read().strip().split()\n",
    "    root=build_tree(level_order)"
   ]
  },
  {
   "cell_type": "markdown",
   "id": "973d4efd",
   "metadata": {},
   "source": [
    "### 2.二叉树的中序遍历读取 "
   ]
  },
  {
   "cell_type": "code",
   "execution_count": null,
   "id": "acec75f7",
   "metadata": {},
   "outputs": [],
   "source": [
    "class Solution:\n",
    "    def __init__(self):  # 初始化方法\n",
    "        self.midorder = []  # 在 __init__ 中定义实例属性\n",
    "    def traverse(self,root):\n",
    "        if root is None:\n",
    "            return    \n",
    "        self.traverse(root.left)\n",
    "        self.midorder.append(root.val)\n",
    "        self.traverse(root.right)\n",
    "\n",
    "if __name__==\"__main__\":\n",
    "    level_order=sys.stdin.read().strip().split()\n",
    "    root=build_tree(level_order) #创建二叉树\n",
    "    so=Solution()\n",
    "    so.traverse(root)\n",
    "    print(\" \".join(map(str,so.midorder)))"
   ]
  }
 ],
 "metadata": {
  "kernelspec": {
   "display_name": "data_analysis",
   "language": "python",
   "name": "python3"
  },
  "language_info": {
   "codemirror_mode": {
    "name": "ipython",
    "version": 3
   },
   "file_extension": ".py",
   "mimetype": "text/x-python",
   "name": "python",
   "nbconvert_exporter": "python",
   "pygments_lexer": "ipython3",
   "version": "3.12.11"
  }
 },
 "nbformat": 4,
 "nbformat_minor": 5
}
