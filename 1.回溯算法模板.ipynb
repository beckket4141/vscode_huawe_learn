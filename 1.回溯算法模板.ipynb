{
 "cells": [
  {
   "cell_type": "markdown",
   "id": "b8b2a811",
   "metadata": {},
   "source": [
    "# 框架"
   ]
  },
  {
   "cell_type": "code",
   "execution_count": null,
   "id": "4cd8f3a1",
   "metadata": {
    "vscode": {
     "languageId": "plaintext"
    }
   },
   "outputs": [],
   "source": [
    "result = []\n",
    "def backtrack(路径, 选择列表):\n",
    "    if 满足结束条件:\n",
    "        result.add(路径)\n",
    "        return\n",
    "    \n",
    "    for 选择 in 选择列表:\n",
    "        做选择\n",
    "        backtrack(路径, 选择列表)\n",
    "        撤销选择"
   ]
  },
  {
   "cell_type": "markdown",
   "id": "86a5c869",
   "metadata": {},
   "source": [
    "## 1.数独游戏的回溯算法模板----二维坐标转一维索引---使用哈希表空间换时间(优化回溯算法的高时间复杂度)"
   ]
  },
  {
   "cell_type": "code",
   "execution_count": null,
   "id": "94f4d1fd",
   "metadata": {
    "vscode": {
     "languageId": "plaintext"
    }
   },
   "outputs": [],
   "source": [
    "class Solution:\n",
    "    def __init__(self):\n",
    "        # 标记是否已经找到可行解\n",
    "        self.found = False\n",
    "        # 记录每行已经出现的数字\n",
    "        # 比如 rows[0] = {1, 2, 3} 表示第 0 行已经出现了数字 1, 2, 3\n",
    "        self.rows = [set() for _ in range(9)]\n",
    "        # 记录每列已经出现的数字\n",
    "        self.cols = [set() for _ in range(9)]\n",
    "        # 记录每个九宫格已经出现的数字\n",
    "        self.boxes = [set() for _ in range(9)]\n",
    "\n",
    "\n",
    "    def solveSudoku(self, board):\n",
    "        # 将预设数字加入集合\n",
    "        for i in range(9):\n",
    "            for j in range(9):\n",
    "                if board[i][j] != '.':\n",
    "                    self.rows[i].add(board[i][j])\n",
    "                    self.cols[j].add(board[i][j])\n",
    "                    self.boxes[self.getBoxIndex(i, j)].add(board[i][j])\n",
    "\n",
    "        self.backtrack(board, 0)\n",
    "\n",
    "\n",
    "    # 路径：board 中小于 index 的位置所填的数字\n",
    "    # 选择列表：数字 1~9\n",
    "    # 结束条件：整个 board 都填满数字\n",
    "    def backtrack(self, board, index):\n",
    "        if self.found:\n",
    "            # 已经找到一个可行解，立即结束\n",
    "            return\n",
    "\n",
    "        m, n = 9, 9\n",
    "        i, j = index // n, index % n\n",
    "        if index == m * n:\n",
    "            # 找到一个可行解，触发 base case\n",
    "            self.found = True\n",
    "            return\n",
    "\n",
    "        if board[i][j] != '.':\n",
    "            # 如果有预设数字，不用我们穷举\n",
    "            self.backtrack(board, index + 1)\n",
    "            return\n",
    "\n",
    "        for ch in '123456789':\n",
    "            # 剪枝：如果遇到不合法的数字，就跳过\n",
    "            if not self.isValid(board, i, j, ch):\n",
    "                continue\n",
    "\n",
    "            # 做选择，把 ch 填入 board[i][j]\n",
    "            board[i][j] = ch\n",
    "            self.rows[i].add(ch)\n",
    "            self.cols[j].add(ch)\n",
    "            self.boxes[self.getBoxIndex(i, j)].add(ch)\n",
    "\n",
    "            self.backtrack(board, index + 1)\n",
    "            if self.found:\n",
    "                # 如果找到一个可行解，立即结束\n",
    "                # 不要撤销选择，否则 board[i][j] 会被重置为 '.'\n",
    "                return\n",
    "\n",
    "            # 撤销选择，把 board[i][j] 重置为 '.'\n",
    "            board[i][j] = '.'\n",
    "            self.rows[i].remove(ch)\n",
    "            self.cols[j].remove(ch)\n",
    "            self.boxes[self.getBoxIndex(i, j)].remove(ch)\n",
    "\n",
    "\n",
    "    # 获取 (r, c) 所在的九宫格索引\n",
    "    def getBoxIndex(self, r, c):\n",
    "        return (r // 3) * 3 + c // 3\n",
    "\n",
    "    # 判断是否可以在 (r, c) 位置放置数字 num\n",
    "    def isValid(self, board, r, c, num):\n",
    "        # 现在只需要查询三次哈希表即可\n",
    "        if num in self.rows[r]:\n",
    "            return False\n",
    "        if num in self.cols[c]:\n",
    "            return False\n",
    "        if num in self.boxes[self.getBoxIndex(r, c)]:\n",
    "            return False\n",
    "        return True"
   ]
  }
 ],
 "metadata": {
  "language_info": {
   "name": "python"
  }
 },
 "nbformat": 4,
 "nbformat_minor": 5
}
